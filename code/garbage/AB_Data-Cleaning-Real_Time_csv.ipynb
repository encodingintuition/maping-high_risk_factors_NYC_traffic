{
 "cells": [
  {
   "cell_type": "code",
   "execution_count": 1,
   "metadata": {},
   "outputs": [],
   "source": [
    "import pandas as pd"
   ]
  },
  {
   "cell_type": "code",
   "execution_count": 2,
   "metadata": {},
   "outputs": [],
   "source": [
    "filename='/media/user-1131/890c2775-f4a8-4b8b-8409-8af9d518c387/DOT_Traffic_Speeds_NBE.csv'"
   ]
  },
  {
   "cell_type": "code",
   "execution_count": 3,
   "metadata": {
    "collapsed": true,
    "jupyter": {
     "outputs_hidden": true
    }
   },
   "outputs": [
    {
     "ename": "FileNotFoundError",
     "evalue": "[Errno 2] No such file or directory: '/media/user-1131/890c2775-f4a8-4b8b-8409-8af9d518c387/DOT_Traffic_Speeds_NBE.csv'",
     "output_type": "error",
     "traceback": [
      "\u001b[0;31m---------------------------------------------------------------------------\u001b[0m",
      "\u001b[0;31mFileNotFoundError\u001b[0m                         Traceback (most recent call last)",
      "\u001b[0;32m<ipython-input-3-bdfb3f7d550e>\u001b[0m in \u001b[0;36m<module>\u001b[0;34m\u001b[0m\n\u001b[1;32m      2\u001b[0m \u001b[0mdf\u001b[0m\u001b[0;34m=\u001b[0m\u001b[0mpd\u001b[0m\u001b[0;34m.\u001b[0m\u001b[0mDataFrame\u001b[0m\u001b[0;34m(\u001b[0m\u001b[0;34m)\u001b[0m\u001b[0;34m\u001b[0m\u001b[0;34m\u001b[0m\u001b[0m\n\u001b[1;32m      3\u001b[0m \u001b[0mchunksize\u001b[0m\u001b[0;34m=\u001b[0m\u001b[0;36m10\u001b[0m\u001b[0;34m**\u001b[0m\u001b[0;36m6\u001b[0m\u001b[0;34m\u001b[0m\u001b[0;34m\u001b[0m\u001b[0m\n\u001b[0;32m----> 4\u001b[0;31m \u001b[0;32mfor\u001b[0m \u001b[0mchunk\u001b[0m \u001b[0;32min\u001b[0m \u001b[0mpd\u001b[0m\u001b[0;34m.\u001b[0m\u001b[0mread_csv\u001b[0m\u001b[0;34m(\u001b[0m\u001b[0mfilename\u001b[0m\u001b[0;34m,\u001b[0m \u001b[0mchunksize\u001b[0m\u001b[0;34m=\u001b[0m\u001b[0mchunksize\u001b[0m\u001b[0;34m)\u001b[0m\u001b[0;34m:\u001b[0m\u001b[0;34m\u001b[0m\u001b[0;34m\u001b[0m\u001b[0m\n\u001b[0m\u001b[1;32m      5\u001b[0m     \u001b[0mdx\u001b[0m\u001b[0;34m=\u001b[0m\u001b[0mpd\u001b[0m\u001b[0;34m.\u001b[0m\u001b[0mDataFrame\u001b[0m\u001b[0;34m(\u001b[0m\u001b[0mchunk\u001b[0m\u001b[0;34m)\u001b[0m\u001b[0;34m\u001b[0m\u001b[0;34m\u001b[0m\u001b[0m\n\u001b[1;32m      6\u001b[0m     \u001b[0mdx\u001b[0m\u001b[0;34m=\u001b[0m\u001b[0mdx\u001b[0m\u001b[0;34m[\u001b[0m\u001b[0;34m'DATA_AS_OF'\u001b[0m\u001b[0;34m]\u001b[0m\u001b[0;34m\u001b[0m\u001b[0;34m\u001b[0m\u001b[0m\n",
      "\u001b[0;32m/opt/anaconda3/lib/python3.8/site-packages/pandas/io/parsers.py\u001b[0m in \u001b[0;36mread_csv\u001b[0;34m(filepath_or_buffer, sep, delimiter, header, names, index_col, usecols, squeeze, prefix, mangle_dupe_cols, dtype, engine, converters, true_values, false_values, skipinitialspace, skiprows, skipfooter, nrows, na_values, keep_default_na, na_filter, verbose, skip_blank_lines, parse_dates, infer_datetime_format, keep_date_col, date_parser, dayfirst, cache_dates, iterator, chunksize, compression, thousands, decimal, lineterminator, quotechar, quoting, doublequote, escapechar, comment, encoding, dialect, error_bad_lines, warn_bad_lines, delim_whitespace, low_memory, memory_map, float_precision)\u001b[0m\n\u001b[1;32m    684\u001b[0m     )\n\u001b[1;32m    685\u001b[0m \u001b[0;34m\u001b[0m\u001b[0m\n\u001b[0;32m--> 686\u001b[0;31m     \u001b[0;32mreturn\u001b[0m \u001b[0m_read\u001b[0m\u001b[0;34m(\u001b[0m\u001b[0mfilepath_or_buffer\u001b[0m\u001b[0;34m,\u001b[0m \u001b[0mkwds\u001b[0m\u001b[0;34m)\u001b[0m\u001b[0;34m\u001b[0m\u001b[0;34m\u001b[0m\u001b[0m\n\u001b[0m\u001b[1;32m    687\u001b[0m \u001b[0;34m\u001b[0m\u001b[0m\n\u001b[1;32m    688\u001b[0m \u001b[0;34m\u001b[0m\u001b[0m\n",
      "\u001b[0;32m/opt/anaconda3/lib/python3.8/site-packages/pandas/io/parsers.py\u001b[0m in \u001b[0;36m_read\u001b[0;34m(filepath_or_buffer, kwds)\u001b[0m\n\u001b[1;32m    450\u001b[0m \u001b[0;34m\u001b[0m\u001b[0m\n\u001b[1;32m    451\u001b[0m     \u001b[0;31m# Create the parser.\u001b[0m\u001b[0;34m\u001b[0m\u001b[0;34m\u001b[0m\u001b[0;34m\u001b[0m\u001b[0m\n\u001b[0;32m--> 452\u001b[0;31m     \u001b[0mparser\u001b[0m \u001b[0;34m=\u001b[0m \u001b[0mTextFileReader\u001b[0m\u001b[0;34m(\u001b[0m\u001b[0mfp_or_buf\u001b[0m\u001b[0;34m,\u001b[0m \u001b[0;34m**\u001b[0m\u001b[0mkwds\u001b[0m\u001b[0;34m)\u001b[0m\u001b[0;34m\u001b[0m\u001b[0;34m\u001b[0m\u001b[0m\n\u001b[0m\u001b[1;32m    453\u001b[0m \u001b[0;34m\u001b[0m\u001b[0m\n\u001b[1;32m    454\u001b[0m     \u001b[0;32mif\u001b[0m \u001b[0mchunksize\u001b[0m \u001b[0;32mor\u001b[0m \u001b[0miterator\u001b[0m\u001b[0;34m:\u001b[0m\u001b[0;34m\u001b[0m\u001b[0;34m\u001b[0m\u001b[0m\n",
      "\u001b[0;32m/opt/anaconda3/lib/python3.8/site-packages/pandas/io/parsers.py\u001b[0m in \u001b[0;36m__init__\u001b[0;34m(self, f, engine, **kwds)\u001b[0m\n\u001b[1;32m    944\u001b[0m             \u001b[0mself\u001b[0m\u001b[0;34m.\u001b[0m\u001b[0moptions\u001b[0m\u001b[0;34m[\u001b[0m\u001b[0;34m\"has_index_names\"\u001b[0m\u001b[0;34m]\u001b[0m \u001b[0;34m=\u001b[0m \u001b[0mkwds\u001b[0m\u001b[0;34m[\u001b[0m\u001b[0;34m\"has_index_names\"\u001b[0m\u001b[0;34m]\u001b[0m\u001b[0;34m\u001b[0m\u001b[0;34m\u001b[0m\u001b[0m\n\u001b[1;32m    945\u001b[0m \u001b[0;34m\u001b[0m\u001b[0m\n\u001b[0;32m--> 946\u001b[0;31m         \u001b[0mself\u001b[0m\u001b[0;34m.\u001b[0m\u001b[0m_make_engine\u001b[0m\u001b[0;34m(\u001b[0m\u001b[0mself\u001b[0m\u001b[0;34m.\u001b[0m\u001b[0mengine\u001b[0m\u001b[0;34m)\u001b[0m\u001b[0;34m\u001b[0m\u001b[0;34m\u001b[0m\u001b[0m\n\u001b[0m\u001b[1;32m    947\u001b[0m \u001b[0;34m\u001b[0m\u001b[0m\n\u001b[1;32m    948\u001b[0m     \u001b[0;32mdef\u001b[0m \u001b[0mclose\u001b[0m\u001b[0;34m(\u001b[0m\u001b[0mself\u001b[0m\u001b[0;34m)\u001b[0m\u001b[0;34m:\u001b[0m\u001b[0;34m\u001b[0m\u001b[0;34m\u001b[0m\u001b[0m\n",
      "\u001b[0;32m/opt/anaconda3/lib/python3.8/site-packages/pandas/io/parsers.py\u001b[0m in \u001b[0;36m_make_engine\u001b[0;34m(self, engine)\u001b[0m\n\u001b[1;32m   1176\u001b[0m     \u001b[0;32mdef\u001b[0m \u001b[0m_make_engine\u001b[0m\u001b[0;34m(\u001b[0m\u001b[0mself\u001b[0m\u001b[0;34m,\u001b[0m \u001b[0mengine\u001b[0m\u001b[0;34m=\u001b[0m\u001b[0;34m\"c\"\u001b[0m\u001b[0;34m)\u001b[0m\u001b[0;34m:\u001b[0m\u001b[0;34m\u001b[0m\u001b[0;34m\u001b[0m\u001b[0m\n\u001b[1;32m   1177\u001b[0m         \u001b[0;32mif\u001b[0m \u001b[0mengine\u001b[0m \u001b[0;34m==\u001b[0m \u001b[0;34m\"c\"\u001b[0m\u001b[0;34m:\u001b[0m\u001b[0;34m\u001b[0m\u001b[0;34m\u001b[0m\u001b[0m\n\u001b[0;32m-> 1178\u001b[0;31m             \u001b[0mself\u001b[0m\u001b[0;34m.\u001b[0m\u001b[0m_engine\u001b[0m \u001b[0;34m=\u001b[0m \u001b[0mCParserWrapper\u001b[0m\u001b[0;34m(\u001b[0m\u001b[0mself\u001b[0m\u001b[0;34m.\u001b[0m\u001b[0mf\u001b[0m\u001b[0;34m,\u001b[0m \u001b[0;34m**\u001b[0m\u001b[0mself\u001b[0m\u001b[0;34m.\u001b[0m\u001b[0moptions\u001b[0m\u001b[0;34m)\u001b[0m\u001b[0;34m\u001b[0m\u001b[0;34m\u001b[0m\u001b[0m\n\u001b[0m\u001b[1;32m   1179\u001b[0m         \u001b[0;32melse\u001b[0m\u001b[0;34m:\u001b[0m\u001b[0;34m\u001b[0m\u001b[0;34m\u001b[0m\u001b[0m\n\u001b[1;32m   1180\u001b[0m             \u001b[0;32mif\u001b[0m \u001b[0mengine\u001b[0m \u001b[0;34m==\u001b[0m \u001b[0;34m\"python\"\u001b[0m\u001b[0;34m:\u001b[0m\u001b[0;34m\u001b[0m\u001b[0;34m\u001b[0m\u001b[0m\n",
      "\u001b[0;32m/opt/anaconda3/lib/python3.8/site-packages/pandas/io/parsers.py\u001b[0m in \u001b[0;36m__init__\u001b[0;34m(self, src, **kwds)\u001b[0m\n\u001b[1;32m   2006\u001b[0m         \u001b[0mkwds\u001b[0m\u001b[0;34m[\u001b[0m\u001b[0;34m\"usecols\"\u001b[0m\u001b[0;34m]\u001b[0m \u001b[0;34m=\u001b[0m \u001b[0mself\u001b[0m\u001b[0;34m.\u001b[0m\u001b[0musecols\u001b[0m\u001b[0;34m\u001b[0m\u001b[0;34m\u001b[0m\u001b[0m\n\u001b[1;32m   2007\u001b[0m \u001b[0;34m\u001b[0m\u001b[0m\n\u001b[0;32m-> 2008\u001b[0;31m         \u001b[0mself\u001b[0m\u001b[0;34m.\u001b[0m\u001b[0m_reader\u001b[0m \u001b[0;34m=\u001b[0m \u001b[0mparsers\u001b[0m\u001b[0;34m.\u001b[0m\u001b[0mTextReader\u001b[0m\u001b[0;34m(\u001b[0m\u001b[0msrc\u001b[0m\u001b[0;34m,\u001b[0m \u001b[0;34m**\u001b[0m\u001b[0mkwds\u001b[0m\u001b[0;34m)\u001b[0m\u001b[0;34m\u001b[0m\u001b[0;34m\u001b[0m\u001b[0m\n\u001b[0m\u001b[1;32m   2009\u001b[0m         \u001b[0mself\u001b[0m\u001b[0;34m.\u001b[0m\u001b[0munnamed_cols\u001b[0m \u001b[0;34m=\u001b[0m \u001b[0mself\u001b[0m\u001b[0;34m.\u001b[0m\u001b[0m_reader\u001b[0m\u001b[0;34m.\u001b[0m\u001b[0munnamed_cols\u001b[0m\u001b[0;34m\u001b[0m\u001b[0;34m\u001b[0m\u001b[0m\n\u001b[1;32m   2010\u001b[0m \u001b[0;34m\u001b[0m\u001b[0m\n",
      "\u001b[0;32mpandas/_libs/parsers.pyx\u001b[0m in \u001b[0;36mpandas._libs.parsers.TextReader.__cinit__\u001b[0;34m()\u001b[0m\n",
      "\u001b[0;32mpandas/_libs/parsers.pyx\u001b[0m in \u001b[0;36mpandas._libs.parsers.TextReader._setup_parser_source\u001b[0;34m()\u001b[0m\n",
      "\u001b[0;31mFileNotFoundError\u001b[0m: [Errno 2] No such file or directory: '/media/user-1131/890c2775-f4a8-4b8b-8409-8af9d518c387/DOT_Traffic_Speeds_NBE.csv'"
     ]
    }
   ],
   "source": [
    "#Let's scan the csv to see how dates are ordered\n",
    "df=pd.DataFrame()\n",
    "chunksize=10**6\n",
    "for chunk in pd.read_csv(filename, chunksize=chunksize):\n",
    "    dx=pd.DataFrame(chunk)\n",
    "    dx=dx['DATA_AS_OF']\n",
    "    print(dx.head(2))"
   ]
  },
  {
   "cell_type": "markdown",
   "metadata": {},
   "source": [
    "There are over 42 million rows! We'll build our first iteration on a selected portion of this."
   ]
  },
  {
   "cell_type": "code",
   "execution_count": 20,
   "metadata": {},
   "outputs": [],
   "source": [
    "#We'll choose 7_000_000 rows from mid-April till end of August and look at them more closely\n",
    "selected_data=pd.DataFrame()\n",
    "i=0\n",
    "chunksize=10**5\n",
    "for chunk in pd.read_csv(filename, chunksize=chunksize,header=0,skiprows=(range(1,1_500_000))):\n",
    "    dx=pd.DataFrame(chunk)\n",
    "    selected_data=pd.concat([selected_data,dx])\n",
    "    i+=1\n",
    "    if i>6:\n",
    "        break"
   ]
  },
  {
   "cell_type": "code",
   "execution_count": 6,
   "metadata": {},
   "outputs": [
    {
     "data": {
      "text/html": [
       "<div>\n",
       "<style scoped>\n",
       "    .dataframe tbody tr th:only-of-type {\n",
       "        vertical-align: middle;\n",
       "    }\n",
       "\n",
       "    .dataframe tbody tr th {\n",
       "        vertical-align: top;\n",
       "    }\n",
       "\n",
       "    .dataframe thead th {\n",
       "        text-align: right;\n",
       "    }\n",
       "</style>\n",
       "<table border=\"1\" class=\"dataframe\">\n",
       "  <thead>\n",
       "    <tr style=\"text-align: right;\">\n",
       "      <th></th>\n",
       "      <th>ID</th>\n",
       "      <th>SPEED</th>\n",
       "      <th>TRAVEL_TIME</th>\n",
       "      <th>STATUS</th>\n",
       "      <th>DATA_AS_OF</th>\n",
       "      <th>LINK_ID</th>\n",
       "      <th>LINK_POINTS</th>\n",
       "      <th>ENCODED_POLY_LINE</th>\n",
       "      <th>ENCODED_POLY_LINE_LVLS</th>\n",
       "      <th>OWNER</th>\n",
       "      <th>TRANSCOM_ID</th>\n",
       "      <th>BOROUGH</th>\n",
       "      <th>LINK_NAME</th>\n",
       "    </tr>\n",
       "  </thead>\n",
       "  <tbody>\n",
       "    <tr>\n",
       "      <th>0</th>\n",
       "      <td>338</td>\n",
       "      <td>6.83</td>\n",
       "      <td>748</td>\n",
       "      <td>0</td>\n",
       "      <td>04/05/2019 06:14:04 PM</td>\n",
       "      <td>4616255</td>\n",
       "      <td>40.81376,-73.93128 40.8127206,-73.9316 40.8121...</td>\n",
       "      <td>_mbxFnufbMnE~@xBP|BOpBeA|A}ArLaQjBgElFiQjHiVvF...</td>\n",
       "      <td>BBBBBBBBBBBBBBBBBBBBBBBBBBBBBBBBBB</td>\n",
       "      <td>NYC_DOT_LIC</td>\n",
       "      <td>4616255</td>\n",
       "      <td>Bronx</td>\n",
       "      <td>MDE N RFK Bridge - 142nd St</td>\n",
       "    </tr>\n",
       "    <tr>\n",
       "      <th>1</th>\n",
       "      <td>160</td>\n",
       "      <td>0.00</td>\n",
       "      <td>0</td>\n",
       "      <td>-101</td>\n",
       "      <td>04/05/2019 06:14:04 PM</td>\n",
       "      <td>4616266</td>\n",
       "      <td>40.8562805,-73.87254 40.8521804,-73.871581 40....</td>\n",
       "      <td>wvjxFjf{aMrX_EpKYnJFnNDrTrCdP`CzSdElGb@vHAzG]h...</td>\n",
       "      <td>BBBBBBBBBBBBB</td>\n",
       "      <td>NYC_DOT_LIC</td>\n",
       "      <td>4616266</td>\n",
       "      <td>Bronx</td>\n",
       "      <td>BRP S FORDHAM ROAD - WATSON AVENUE</td>\n",
       "    </tr>\n",
       "    <tr>\n",
       "      <th>2</th>\n",
       "      <td>185</td>\n",
       "      <td>3.10</td>\n",
       "      <td>814</td>\n",
       "      <td>0</td>\n",
       "      <td>04/05/2019 06:14:04 PM</td>\n",
       "      <td>4616267</td>\n",
       "      <td>40.8304204,-73.850811 40.83156,-73.854671 40.8...</td>\n",
       "      <td>cuexFp~vaMcFbWcDtOsC|Nm@pBa@dCk@nDqAfGiAxFgBxI</td>\n",
       "      <td>BBBBBBBBBB</td>\n",
       "      <td>NYC_DOT_LIC</td>\n",
       "      <td>4616267</td>\n",
       "      <td>Bronx</td>\n",
       "      <td>CBE W CASTLE HILL AVENUE - TAYLOR AVENUE</td>\n",
       "    </tr>\n",
       "    <tr>\n",
       "      <th>3</th>\n",
       "      <td>426</td>\n",
       "      <td>22.99</td>\n",
       "      <td>300</td>\n",
       "      <td>0</td>\n",
       "      <td>04/05/2019 06:14:04 PM</td>\n",
       "      <td>4616272</td>\n",
       "      <td>40.7024204,-73.816481 40.700841,-73.815751 40....</td>\n",
       "      <td>culwF~gpaMzHqCjUaKlGgDnl@wXndA_b@bRaH</td>\n",
       "      <td>BBBBBBB</td>\n",
       "      <td>NYC_DOT_LIC</td>\n",
       "      <td>4616272</td>\n",
       "      <td>Queens</td>\n",
       "      <td>VWE S MP4.63 (Exit 6 Jamaica Ave) - MP2.66 (Ex...</td>\n",
       "    </tr>\n",
       "    <tr>\n",
       "      <th>4</th>\n",
       "      <td>425</td>\n",
       "      <td>12.42</td>\n",
       "      <td>864</td>\n",
       "      <td>0</td>\n",
       "      <td>04/05/2019 06:14:04 PM</td>\n",
       "      <td>4616276</td>\n",
       "      <td>40.67445,-73.80181 40.67374,-73.80154 40.67261...</td>\n",
       "      <td>ifgwFhlmaMlCu@`Fo@dJMrSp@`PfDnCd@pCk@|B_D^}D_@...</td>\n",
       "      <td>BBBBBBBBBBBBBBBBBBBBBBB</td>\n",
       "      <td>NYC_DOT_LIC</td>\n",
       "      <td>4616276</td>\n",
       "      <td>Queens</td>\n",
       "      <td>VWE S MP2.66 (Exit 2 Rockaway Blvd) - Belt Pkw...</td>\n",
       "    </tr>\n",
       "  </tbody>\n",
       "</table>\n",
       "</div>"
      ],
      "text/plain": [
       "    ID  SPEED  TRAVEL_TIME  STATUS              DATA_AS_OF  LINK_ID  \\\n",
       "0  338   6.83          748       0  04/05/2019 06:14:04 PM  4616255   \n",
       "1  160   0.00            0    -101  04/05/2019 06:14:04 PM  4616266   \n",
       "2  185   3.10          814       0  04/05/2019 06:14:04 PM  4616267   \n",
       "3  426  22.99          300       0  04/05/2019 06:14:04 PM  4616272   \n",
       "4  425  12.42          864       0  04/05/2019 06:14:04 PM  4616276   \n",
       "\n",
       "                                         LINK_POINTS  \\\n",
       "0  40.81376,-73.93128 40.8127206,-73.9316 40.8121...   \n",
       "1  40.8562805,-73.87254 40.8521804,-73.871581 40....   \n",
       "2  40.8304204,-73.850811 40.83156,-73.854671 40.8...   \n",
       "3  40.7024204,-73.816481 40.700841,-73.815751 40....   \n",
       "4  40.67445,-73.80181 40.67374,-73.80154 40.67261...   \n",
       "\n",
       "                                   ENCODED_POLY_LINE  \\\n",
       "0  _mbxFnufbMnE~@xBP|BOpBeA|A}ArLaQjBgElFiQjHiVvF...   \n",
       "1  wvjxFjf{aMrX_EpKYnJFnNDrTrCdP`CzSdElGb@vHAzG]h...   \n",
       "2     cuexFp~vaMcFbWcDtOsC|Nm@pBa@dCk@nDqAfGiAxFgBxI   \n",
       "3              culwF~gpaMzHqCjUaKlGgDnl@wXndA_b@bRaH   \n",
       "4  ifgwFhlmaMlCu@`Fo@dJMrSp@`PfDnCd@pCk@|B_D^}D_@...   \n",
       "\n",
       "               ENCODED_POLY_LINE_LVLS        OWNER  TRANSCOM_ID BOROUGH  \\\n",
       "0  BBBBBBBBBBBBBBBBBBBBBBBBBBBBBBBBBB  NYC_DOT_LIC      4616255   Bronx   \n",
       "1                       BBBBBBBBBBBBB  NYC_DOT_LIC      4616266   Bronx   \n",
       "2                          BBBBBBBBBB  NYC_DOT_LIC      4616267   Bronx   \n",
       "3                             BBBBBBB  NYC_DOT_LIC      4616272  Queens   \n",
       "4             BBBBBBBBBBBBBBBBBBBBBBB  NYC_DOT_LIC      4616276  Queens   \n",
       "\n",
       "                                           LINK_NAME  \n",
       "0                        MDE N RFK Bridge - 142nd St  \n",
       "1                 BRP S FORDHAM ROAD - WATSON AVENUE  \n",
       "2           CBE W CASTLE HILL AVENUE - TAYLOR AVENUE  \n",
       "3  VWE S MP4.63 (Exit 6 Jamaica Ave) - MP2.66 (Ex...  \n",
       "4  VWE S MP2.66 (Exit 2 Rockaway Blvd) - Belt Pkw...  "
      ]
     },
     "execution_count": 6,
     "metadata": {},
     "output_type": "execute_result"
    }
   ],
   "source": [
    "selected_data.head()"
   ]
  },
  {
   "cell_type": "code",
   "execution_count": 7,
   "metadata": {},
   "outputs": [
    {
     "data": {
      "text/plain": [
       "(7000000, 13)"
      ]
     },
     "execution_count": 7,
     "metadata": {},
     "output_type": "execute_result"
    }
   ],
   "source": [
    "selected_data.shape"
   ]
  },
  {
   "cell_type": "code",
   "execution_count": 8,
   "metadata": {},
   "outputs": [
    {
     "data": {
      "text/plain": [
       "ID                          int64\n",
       "SPEED                     float64\n",
       "TRAVEL_TIME                 int64\n",
       "STATUS                      int64\n",
       "DATA_AS_OF                 object\n",
       "LINK_ID                     int64\n",
       "LINK_POINTS                object\n",
       "ENCODED_POLY_LINE          object\n",
       "ENCODED_POLY_LINE_LVLS     object\n",
       "OWNER                      object\n",
       "TRANSCOM_ID                 int64\n",
       "BOROUGH                    object\n",
       "LINK_NAME                  object\n",
       "dtype: object"
      ]
     },
     "execution_count": 8,
     "metadata": {},
     "output_type": "execute_result"
    }
   ],
   "source": [
    "selected_data.dtypes"
   ]
  },
  {
   "cell_type": "code",
   "execution_count": 9,
   "metadata": {},
   "outputs": [],
   "source": [
    "#selected_data['speed']=pd.to_numeric(selected_data['speed'])"
   ]
  },
  {
   "cell_type": "code",
   "execution_count": 10,
   "metadata": {},
   "outputs": [
    {
     "data": {
      "text/html": [
       "<div>\n",
       "<style scoped>\n",
       "    .dataframe tbody tr th:only-of-type {\n",
       "        vertical-align: middle;\n",
       "    }\n",
       "\n",
       "    .dataframe tbody tr th {\n",
       "        vertical-align: top;\n",
       "    }\n",
       "\n",
       "    .dataframe thead th {\n",
       "        text-align: right;\n",
       "    }\n",
       "</style>\n",
       "<table border=\"1\" class=\"dataframe\">\n",
       "  <thead>\n",
       "    <tr style=\"text-align: right;\">\n",
       "      <th></th>\n",
       "      <th>ID</th>\n",
       "      <th>SPEED</th>\n",
       "      <th>TRAVEL_TIME</th>\n",
       "      <th>STATUS</th>\n",
       "      <th>DATA_AS_OF</th>\n",
       "      <th>LINK_ID</th>\n",
       "      <th>LINK_POINTS</th>\n",
       "      <th>ENCODED_POLY_LINE</th>\n",
       "      <th>ENCODED_POLY_LINE_LVLS</th>\n",
       "      <th>OWNER</th>\n",
       "      <th>TRANSCOM_ID</th>\n",
       "      <th>BOROUGH</th>\n",
       "      <th>LINK_NAME</th>\n",
       "    </tr>\n",
       "  </thead>\n",
       "  <tbody>\n",
       "    <tr>\n",
       "      <th>0</th>\n",
       "      <td>338</td>\n",
       "      <td>6.83</td>\n",
       "      <td>748</td>\n",
       "      <td>0</td>\n",
       "      <td>2019-04-05 18:14:04</td>\n",
       "      <td>4616255</td>\n",
       "      <td>40.81376,-73.93128 40.8127206,-73.9316 40.8121...</td>\n",
       "      <td>_mbxFnufbMnE~@xBP|BOpBeA|A}ArLaQjBgElFiQjHiVvF...</td>\n",
       "      <td>BBBBBBBBBBBBBBBBBBBBBBBBBBBBBBBBBB</td>\n",
       "      <td>NYC_DOT_LIC</td>\n",
       "      <td>4616255</td>\n",
       "      <td>Bronx</td>\n",
       "      <td>MDE N RFK Bridge - 142nd St</td>\n",
       "    </tr>\n",
       "    <tr>\n",
       "      <th>1</th>\n",
       "      <td>160</td>\n",
       "      <td>0.00</td>\n",
       "      <td>0</td>\n",
       "      <td>-101</td>\n",
       "      <td>2019-04-05 18:14:04</td>\n",
       "      <td>4616266</td>\n",
       "      <td>40.8562805,-73.87254 40.8521804,-73.871581 40....</td>\n",
       "      <td>wvjxFjf{aMrX_EpKYnJFnNDrTrCdP`CzSdElGb@vHAzG]h...</td>\n",
       "      <td>BBBBBBBBBBBBB</td>\n",
       "      <td>NYC_DOT_LIC</td>\n",
       "      <td>4616266</td>\n",
       "      <td>Bronx</td>\n",
       "      <td>BRP S FORDHAM ROAD - WATSON AVENUE</td>\n",
       "    </tr>\n",
       "  </tbody>\n",
       "</table>\n",
       "</div>"
      ],
      "text/plain": [
       "    ID  SPEED  TRAVEL_TIME  STATUS          DATA_AS_OF  LINK_ID  \\\n",
       "0  338   6.83          748       0 2019-04-05 18:14:04  4616255   \n",
       "1  160   0.00            0    -101 2019-04-05 18:14:04  4616266   \n",
       "\n",
       "                                         LINK_POINTS  \\\n",
       "0  40.81376,-73.93128 40.8127206,-73.9316 40.8121...   \n",
       "1  40.8562805,-73.87254 40.8521804,-73.871581 40....   \n",
       "\n",
       "                                   ENCODED_POLY_LINE  \\\n",
       "0  _mbxFnufbMnE~@xBP|BOpBeA|A}ArLaQjBgElFiQjHiVvF...   \n",
       "1  wvjxFjf{aMrX_EpKYnJFnNDrTrCdP`CzSdElGb@vHAzG]h...   \n",
       "\n",
       "               ENCODED_POLY_LINE_LVLS        OWNER  TRANSCOM_ID BOROUGH  \\\n",
       "0  BBBBBBBBBBBBBBBBBBBBBBBBBBBBBBBBBB  NYC_DOT_LIC      4616255   Bronx   \n",
       "1                       BBBBBBBBBBBBB  NYC_DOT_LIC      4616266   Bronx   \n",
       "\n",
       "                            LINK_NAME  \n",
       "0         MDE N RFK Bridge - 142nd St  \n",
       "1  BRP S FORDHAM ROAD - WATSON AVENUE  "
      ]
     },
     "execution_count": 10,
     "metadata": {},
     "output_type": "execute_result"
    }
   ],
   "source": [
    "selected_data['DATA_AS_OF']=pd.to_datetime(selected_data['DATA_AS_OF'])\n",
    "selected_data.head(2)"
   ]
  },
  {
   "cell_type": "code",
   "execution_count": 11,
   "metadata": {},
   "outputs": [],
   "source": [
    "#date range selected based on trial error. It was one of the longest stretch of data without obvious discontinuities or mis-order.\\\n",
    "#Included a plot to show this in a later cell.\n",
    "selected_data=selected_data[(selected_data['DATA_AS_OF']>'2019-04-18')&(selected_data['DATA_AS_OF']<'2019-05-22')]"
   ]
  },
  {
   "cell_type": "code",
   "execution_count": 12,
   "metadata": {},
   "outputs": [],
   "source": [
    "#ordering by date in descending order\n",
    "selected_data.sort_values(by='DATA_AS_OF', ascending=False, inplace=True)"
   ]
  },
  {
   "cell_type": "code",
   "execution_count": 13,
   "metadata": {},
   "outputs": [
    {
     "data": {
      "text/html": [
       "<div>\n",
       "<style scoped>\n",
       "    .dataframe tbody tr th:only-of-type {\n",
       "        vertical-align: middle;\n",
       "    }\n",
       "\n",
       "    .dataframe tbody tr th {\n",
       "        vertical-align: top;\n",
       "    }\n",
       "\n",
       "    .dataframe thead th {\n",
       "        text-align: right;\n",
       "    }\n",
       "</style>\n",
       "<table border=\"1\" class=\"dataframe\">\n",
       "  <thead>\n",
       "    <tr style=\"text-align: right;\">\n",
       "      <th></th>\n",
       "      <th>ID</th>\n",
       "      <th>SPEED</th>\n",
       "      <th>TRAVEL_TIME</th>\n",
       "      <th>STATUS</th>\n",
       "      <th>DATA_AS_OF</th>\n",
       "      <th>LINK_ID</th>\n",
       "      <th>LINK_POINTS</th>\n",
       "      <th>ENCODED_POLY_LINE</th>\n",
       "      <th>ENCODED_POLY_LINE_LVLS</th>\n",
       "      <th>OWNER</th>\n",
       "      <th>TRANSCOM_ID</th>\n",
       "      <th>BOROUGH</th>\n",
       "      <th>LINK_NAME</th>\n",
       "    </tr>\n",
       "  </thead>\n",
       "  <tbody>\n",
       "    <tr>\n",
       "      <th>1674431</th>\n",
       "      <td>315</td>\n",
       "      <td>49.08</td>\n",
       "      <td>101</td>\n",
       "      <td>0</td>\n",
       "      <td>2019-05-20 19:29:13</td>\n",
       "      <td>4616364</td>\n",
       "      <td>40.73744001,-73.85188001  40.737015,-73.853730...</td>\n",
       "      <td>_pswFfewaMtApJv@rIh@nDlFbXhH`]bJla@|@`FbHz\\fBvG</td>\n",
       "      <td>BBBBBBBBBB</td>\n",
       "      <td>NYC_DOT_LIC</td>\n",
       "      <td>4616364</td>\n",
       "      <td>Queens</td>\n",
       "      <td>LIE W 108TH ST - 84TH ST</td>\n",
       "    </tr>\n",
       "    <tr>\n",
       "      <th>1674412</th>\n",
       "      <td>258</td>\n",
       "      <td>34.79</td>\n",
       "      <td>122</td>\n",
       "      <td>0</td>\n",
       "      <td>2019-05-20 19:29:13</td>\n",
       "      <td>4616220</td>\n",
       "      <td>40.6162405,-74.02612 40.61923,-74.02361 40.623...</td>\n",
       "      <td>oz{vFffybMuQuNmZsVsFyC}D}AeLmDeO_E{JkCaEg@</td>\n",
       "      <td>BBBBBBBBB</td>\n",
       "      <td>NYC_DOT_LIC</td>\n",
       "      <td>4616220</td>\n",
       "      <td>Brooklyn</td>\n",
       "      <td>GOW N 92ND STREET - 7TH AVENUE</td>\n",
       "    </tr>\n",
       "  </tbody>\n",
       "</table>\n",
       "</div>"
      ],
      "text/plain": [
       "          ID  SPEED  TRAVEL_TIME  STATUS          DATA_AS_OF  LINK_ID  \\\n",
       "1674431  315  49.08          101       0 2019-05-20 19:29:13  4616364   \n",
       "1674412  258  34.79          122       0 2019-05-20 19:29:13  4616220   \n",
       "\n",
       "                                               LINK_POINTS  \\\n",
       "1674431  40.73744001,-73.85188001  40.737015,-73.853730...   \n",
       "1674412  40.6162405,-74.02612 40.61923,-74.02361 40.623...   \n",
       "\n",
       "                                       ENCODED_POLY_LINE  \\\n",
       "1674431  _pswFfewaMtApJv@rIh@nDlFbXhH`]bJla@|@`FbHz\\fBvG   \n",
       "1674412       oz{vFffybMuQuNmZsVsFyC}D}AeLmDeO_E{JkCaEg@   \n",
       "\n",
       "        ENCODED_POLY_LINE_LVLS        OWNER  TRANSCOM_ID   BOROUGH  \\\n",
       "1674431             BBBBBBBBBB  NYC_DOT_LIC      4616364    Queens   \n",
       "1674412              BBBBBBBBB  NYC_DOT_LIC      4616220  Brooklyn   \n",
       "\n",
       "                              LINK_NAME  \n",
       "1674431        LIE W 108TH ST - 84TH ST  \n",
       "1674412  GOW N 92ND STREET - 7TH AVENUE  "
      ]
     },
     "execution_count": 13,
     "metadata": {},
     "output_type": "execute_result"
    }
   ],
   "source": [
    "#Let's check how selected_data looks like\n",
    "selected_data.head(2)"
   ]
  },
  {
   "cell_type": "code",
   "execution_count": 14,
   "metadata": {},
   "outputs": [
    {
     "data": {
      "text/plain": [
       "<matplotlib.axes._subplots.AxesSubplot at 0x7f244498dd30>"
      ]
     },
     "execution_count": 14,
     "metadata": {},
     "output_type": "execute_result"
    },
    {
     "data": {
      "image/png": "[encoded data removed]",
      "text/plain": [
       "<Figure size 432x288 with 1 Axes>"
      ]
     },
     "metadata": {
      "needs_background": "light"
     },
     "output_type": "display_data"
    }
   ],
   "source": [
    "#Let's check if there are discontinuities in the data or if data is out of order\n",
    "selected_data['DATA_AS_OF'].plot()"
   ]
  },
  {
   "cell_type": "code",
   "execution_count": 15,
   "metadata": {},
   "outputs": [],
   "source": [
    "#saving selected data to csv\n",
    "selected_data.to_csv('/media/user-1131/890c2775-f4a8-4b8b-8409-8af9d518c387/selected_data.csv')"
   ]
  },
  {
   "cell_type": "code",
   "execution_count": 16,
   "metadata": {},
   "outputs": [
    {
     "data": {
      "text/html": [
       "<div>\n",
       "<style scoped>\n",
       "    .dataframe tbody tr th:only-of-type {\n",
       "        vertical-align: middle;\n",
       "    }\n",
       "\n",
       "    .dataframe tbody tr th {\n",
       "        vertical-align: top;\n",
       "    }\n",
       "\n",
       "    .dataframe thead th {\n",
       "        text-align: right;\n",
       "    }\n",
       "</style>\n",
       "<table border=\"1\" class=\"dataframe\">\n",
       "  <thead>\n",
       "    <tr style=\"text-align: right;\">\n",
       "      <th></th>\n",
       "      <th></th>\n",
       "      <th>SPEED</th>\n",
       "    </tr>\n",
       "    <tr>\n",
       "      <th>LINK_ID</th>\n",
       "      <th>DATA_AS_OF</th>\n",
       "      <th></th>\n",
       "    </tr>\n",
       "  </thead>\n",
       "  <tbody>\n",
       "    <tr>\n",
       "      <th rowspan=\"5\" valign=\"top\">4329472</th>\n",
       "      <th>2019-05-20 19:28:04</th>\n",
       "      <td>13.670000</td>\n",
       "    </tr>\n",
       "    <tr>\n",
       "      <th>2019-05-20 19:23:04</th>\n",
       "      <td>13.670000</td>\n",
       "    </tr>\n",
       "    <tr>\n",
       "      <th>2019-05-20 19:18:04</th>\n",
       "      <td>13.876667</td>\n",
       "    </tr>\n",
       "    <tr>\n",
       "      <th>2019-05-20 19:13:04</th>\n",
       "      <td>14.290000</td>\n",
       "    </tr>\n",
       "    <tr>\n",
       "      <th>2019-05-20 19:08:03</th>\n",
       "      <td>15.160000</td>\n",
       "    </tr>\n",
       "    <tr>\n",
       "      <th>...</th>\n",
       "      <th>...</th>\n",
       "      <td>...</td>\n",
       "    </tr>\n",
       "    <tr>\n",
       "      <th rowspan=\"5\" valign=\"top\">4763657</th>\n",
       "      <th>2019-04-18 00:24:05</th>\n",
       "      <td>48.126154</td>\n",
       "    </tr>\n",
       "    <tr>\n",
       "      <th>2019-04-18 00:19:04</th>\n",
       "      <td>48.150000</td>\n",
       "    </tr>\n",
       "    <tr>\n",
       "      <th>2019-04-18 00:14:04</th>\n",
       "      <td>48.269231</td>\n",
       "    </tr>\n",
       "    <tr>\n",
       "      <th>2019-04-18 00:09:06</th>\n",
       "      <td>48.316923</td>\n",
       "    </tr>\n",
       "    <tr>\n",
       "      <th>2019-04-18 00:04:04</th>\n",
       "      <td>48.408333</td>\n",
       "    </tr>\n",
       "  </tbody>\n",
       "</table>\n",
       "<p>1150196 rows × 1 columns</p>\n",
       "</div>"
      ],
      "text/plain": [
       "                                 SPEED\n",
       "LINK_ID DATA_AS_OF                    \n",
       "4329472 2019-05-20 19:28:04  13.670000\n",
       "        2019-05-20 19:23:04  13.670000\n",
       "        2019-05-20 19:18:04  13.876667\n",
       "        2019-05-20 19:13:04  14.290000\n",
       "        2019-05-20 19:08:03  15.160000\n",
       "...                                ...\n",
       "4763657 2019-04-18 00:24:05  48.126154\n",
       "        2019-04-18 00:19:04  48.150000\n",
       "        2019-04-18 00:14:04  48.269231\n",
       "        2019-04-18 00:09:06  48.316923\n",
       "        2019-04-18 00:04:04  48.408333\n",
       "\n",
       "[1150196 rows x 1 columns]"
      ]
     },
     "execution_count": 16,
     "metadata": {},
     "output_type": "execute_result"
    }
   ],
   "source": [
    "#creating multi-index dataframe with 1h rolling average for speed\n",
    "multiindex_data=selected_data.groupby(by=['LINK_ID']).rolling(\"1H\", on=\"DATA_AS_OF\")[[\"SPEED\"]].mean()\n",
    "multiindex_data"
   ]
  },
  {
   "cell_type": "code",
   "execution_count": 17,
   "metadata": {},
   "outputs": [],
   "source": [
    "#saving multi-index to csv\n",
    "multiindex_data.to_csv('/media/user-1131/890c2775-f4a8-4b8b-8409-8af9d518c387/multiindex_data.csv')"
   ]
  },
  {
   "cell_type": "code",
   "execution_count": 21,
   "metadata": {},
   "outputs": [
    {
     "name": "stderr",
     "output_type": "stream",
     "text": [
      "/home/user-1131/venv/lib/python3.6/site-packages/ipykernel_launcher.py:3: SettingWithCopyWarning: \n",
      "A value is trying to be set on a copy of a slice from a DataFrame\n",
      "\n",
      "See the caveats in the documentation: https://pandas.pydata.org/pandas-docs/stable/user_guide/indexing.html#returning-a-view-versus-a-copy\n",
      "  This is separate from the ipykernel package so we can avoid doing imports until\n"
     ]
    }
   ],
   "source": [
    "#information on the routes included in the data\n",
    "route_info=selected_data[['LINK_NAME','LINK_POINTS','LINK_ID']]\n",
    "route_info.drop_duplicates(inplace=True)"
   ]
  },
  {
   "cell_type": "code",
   "execution_count": 22,
   "metadata": {},
   "outputs": [],
   "source": [
    "#Let's save the information on routes. There are 135 unique routes in total.\n",
    "route_info.to_csv('/media/user-1131/890c2775-f4a8-4b8b-8409-8af9d518c387/route_info.csv')"
   ]
  },
  {
   "cell_type": "code",
   "execution_count": null,
   "metadata": {},
   "outputs": [],
   "source": []
  }
 ],
 "metadata": {
  "kernelspec": {
   "display_name": "Python 3",
   "language": "python",
   "name": "python3"
  },
  "language_info": {
   "codemirror_mode": {
    "name": "ipython",
    "version": 3
   },
   "file_extension": ".py",
   "mimetype": "text/x-python",
   "name": "python",
   "nbconvert_exporter": "python",
   "pygments_lexer": "ipython3",
   "version": "3.8.2"
  }
 },
 "nbformat": 4,
 "nbformat_minor": 4
}
