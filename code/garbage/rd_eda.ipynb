{
 "cells": [
  {
   "cell_type": "markdown",
   "metadata": {},
   "source": [
    "# Project 5: Identifying High Risk Areas from NYC Traffic Conditions\n",
    "## *Template Notebook*\n",
    "\n",
    "In this notebook:\n",
    "\n",
    "* [Topic 1](#topic-1)\n",
    "* [Topic 2](#topic-2)\n",
    "\n",
    "#### Import Libraries & Read in Data"
   ]
  },
  {
   "cell_type": "code",
   "execution_count": 1,
   "metadata": {},
   "outputs": [],
   "source": [
    "## standard imports \n",
    "import pandas as pd \n",
    "import numpy as np\n",
    "import re\n",
    "## visualizations\n",
    "import matplotlib.pyplot as plt\n",
    "import seaborn as sns\n",
    "## preprocessing\n",
    "from sklearn.pipeline import make_pipeline\n",
    "from sklearn.preprocessing import StandardScaler, PolynomialFeatures\n",
    "from sklearn.feature_selection import SelectKBest, f_regression\n",
    "from sklearn.dummy import DummyClassifier\n",
    "## modeling\n",
    "from sklearn.linear_model import LogisticRegression, LinearRegression, Lasso, Ridge, ElasticNet\n",
    "from sklearn.model_selection import train_test_split, GridSearchCV\n",
    "from sklearn.neighbors import KNeighborsClassifier, KNeighborsRegressor\n",
    "from sklearn.svm import SVC, SVR\n",
    "from sklearn.naive_bayes import MultinomialNB\n",
    "## trees\n",
    "from sklearn.tree import DecisionTreeClassifier, DecisionTreeRegressor\n",
    "from sklearn.ensemble import BaggingClassifier, BaggingRegressor, RandomForestClassifier, ExtraTreesClassifier, RandomForestRegressor, ExtraTreesRegressor, AdaBoostRegressor, AdaBoostClassifier, GradientBoostingRegressor\n",
    "## NLP\n",
    "from sklearn.feature_extraction.text import CountVectorizer\n",
    "## analysis\n",
    "from sklearn.metrics import confusion_matrix, plot_confusion_matrix, accuracy_score, make_scorer, f1_score, mean_squared_error\n",
    "\n",
    "## options\n",
    "import sklearn\n",
    "pd.options.display.max_rows = 4000\n",
    "pd.options.display.max_columns = 100\n",
    "pd.set_option('max_colwidth', 100)"
   ]
  },
  {
   "cell_type": "code",
   "execution_count": 2,
   "metadata": {},
   "outputs": [],
   "source": [
    "### read in data\n",
    "data = pd.read_csv('../data_large/selected_data.csv')"
   ]
  },
  {
   "cell_type": "markdown",
   "metadata": {},
   "source": [
    "Trimmed data from https://data.cityofnewyork.us/Public-Safety/Motor-Vehicle-Collisions-Vehicles/bm4k-52h4"
   ]
  },
  {
   "cell_type": "code",
   "execution_count": null,
   "metadata": {},
   "outputs": [],
   "source": [
    "data.info()"
   ]
  },
  {
   "cell_type": "code",
   "execution_count": null,
   "metadata": {},
   "outputs": [],
   "source": [
    "data.shape"
   ]
  },
  {
   "cell_type": "code",
   "execution_count": null,
   "metadata": {},
   "outputs": [],
   "source": []
  },
  {
   "cell_type": "code",
   "execution_count": null,
   "metadata": {},
   "outputs": [],
   "source": [
    "data.head()"
   ]
  },
  {
   "cell_type": "markdown",
   "metadata": {},
   "source": [
    "Notes on data:\n",
    "\n",
    "* ID and LINK_ID are the same (according to the data dictionary) Drop one of these (I say ID so LINK_ID is easy to associate to LINK_POINTS\n",
    "* Says both STATUS and TRANSCOM_ID are not useful (artifacts) -- drop these\n",
    "* TRAVEL_TIME - units? -- drop\n",
    "* Unnamed: 0 -- need to remove index from data set when export to csv\n",
    "\n"
   ]
  },
  {
   "cell_type": "code",
   "execution_count": null,
   "metadata": {},
   "outputs": [],
   "source": [
    "data.columns"
   ]
  },
  {
   "cell_type": "code",
   "execution_count": null,
   "metadata": {},
   "outputs": [],
   "source": [
    "drop_cols = ['Unnamed: 0', 'ID', 'TRAVEL_TIME', 'STATUS',\n",
    "       'OWNER', 'TRANSCOM_ID']\n",
    "data.drop(columns=drop_cols, axis=1, inplace=True)"
   ]
  },
  {
   "cell_type": "code",
   "execution_count": null,
   "metadata": {},
   "outputs": [],
   "source": [
    "data.head()"
   ]
  },
  {
   "cell_type": "code",
   "execution_count": null,
   "metadata": {},
   "outputs": [],
   "source": [
    "data.info()"
   ]
  },
  {
   "cell_type": "code",
   "execution_count": null,
   "metadata": {},
   "outputs": [],
   "source": [
    "data.columns"
   ]
  },
  {
   "cell_type": "code",
   "execution_count": null,
   "metadata": {},
   "outputs": [],
   "source": [
    "### make column names lowercase\n",
    "data.columns = map(str.lower, data.columns)"
   ]
  },
  {
   "cell_type": "code",
   "execution_count": null,
   "metadata": {},
   "outputs": [],
   "source": [
    "data.columns"
   ]
  },
  {
   "cell_type": "code",
   "execution_count": null,
   "metadata": {},
   "outputs": [],
   "source": [
    "### rename columns\n",
    "rename_cols = {\n",
    "    'data_as_of' : 'date_time',\n",
    "}\n",
    "\n",
    "data.rename(columns=rename_cols, inplace=True)\n",
    "data.head()"
   ]
  },
  {
   "cell_type": "code",
   "execution_count": null,
   "metadata": {},
   "outputs": [],
   "source": [
    "### convert date to datetime object\n",
    "data['date_time'] = pd.to_datetime(data['date_time'])"
   ]
  },
  {
   "cell_type": "code",
   "execution_count": null,
   "metadata": {},
   "outputs": [],
   "source": [
    "data.info()"
   ]
  },
  {
   "cell_type": "code",
   "execution_count": null,
   "metadata": {},
   "outputs": [],
   "source": [
    "data.head()"
   ]
  },
  {
   "cell_type": "code",
   "execution_count": null,
   "metadata": {},
   "outputs": [],
   "source": [
    "data.iloc[0,3]"
   ]
  },
  {
   "cell_type": "code",
   "execution_count": null,
   "metadata": {},
   "outputs": [],
   "source": [
    "data.columns"
   ]
  },
  {
   "cell_type": "code",
   "execution_count": null,
   "metadata": {},
   "outputs": [],
   "source": [
    "### to reduce size further for modeling lets delete all the link info. This needs to be cleaned anyways, can be added back later via link id.\n",
    "drop_link_info = ['link_points', 'encoded_poly_line', 'encoded_poly_line_lvls', 'link_name']\n",
    "data.drop(columns=drop_link_info, axis=1, inplace=True)"
   ]
  },
  {
   "cell_type": "code",
   "execution_count": null,
   "metadata": {},
   "outputs": [],
   "source": [
    "data.head()"
   ]
  },
  {
   "cell_type": "code",
   "execution_count": null,
   "metadata": {},
   "outputs": [],
   "source": [
    "### check size of this dataframe\n",
    "# data.to_csv('./data_test/check-size-2.csv', index=False) ### still 453.2 MB ### note: wayyyy smaller after all GPS info was dropped!"
   ]
  },
  {
   "cell_type": "code",
   "execution_count": null,
   "metadata": {},
   "outputs": [],
   "source": [
    "### check if pickle helps?\n",
    "data.to_pickle('./pickles/check_size.pickle')  ### 59.9 MB!!"
   ]
  },
  {
   "cell_type": "code",
   "execution_count": 3,
   "metadata": {},
   "outputs": [
    {
     "data": {
      "text/html": [
       "<div>\n",
       "<style scoped>\n",
       "    .dataframe tbody tr th:only-of-type {\n",
       "        vertical-align: middle;\n",
       "    }\n",
       "\n",
       "    .dataframe tbody tr th {\n",
       "        vertical-align: top;\n",
       "    }\n",
       "\n",
       "    .dataframe thead th {\n",
       "        text-align: right;\n",
       "    }\n",
       "</style>\n",
       "<table border=\"1\" class=\"dataframe\">\n",
       "  <thead>\n",
       "    <tr style=\"text-align: right;\">\n",
       "      <th></th>\n",
       "      <th>speed</th>\n",
       "      <th>date_time</th>\n",
       "      <th>link_id</th>\n",
       "      <th>link_points</th>\n",
       "      <th>encoded_poly_line</th>\n",
       "      <th>encoded_poly_line_lvls</th>\n",
       "      <th>borough</th>\n",
       "      <th>link_name</th>\n",
       "    </tr>\n",
       "  </thead>\n",
       "  <tbody>\n",
       "    <tr>\n",
       "      <th>0</th>\n",
       "      <td>49.08</td>\n",
       "      <td>2019-05-20 19:29:13</td>\n",
       "      <td>4616364</td>\n",
       "      <td>40.73744001,-73.85188001  40.737015,-73.85373001  40.73673,-73.85543001  40.736526,-73.85631001 ...</td>\n",
       "      <td>_pswFfewaMtApJv@rIh@nDlFbXhH`]bJla@|@`FbHz\\fBvG</td>\n",
       "      <td>BBBBBBBBBB</td>\n",
       "      <td>Queens</td>\n",
       "      <td>LIE W 108TH ST - 84TH ST</td>\n",
       "    </tr>\n",
       "    <tr>\n",
       "      <th>1</th>\n",
       "      <td>34.79</td>\n",
       "      <td>2019-05-20 19:29:13</td>\n",
       "      <td>4616220</td>\n",
       "      <td>40.6162405,-74.02612 40.61923,-74.02361 40.62362,-74.019831 40.6248406,-74.019061 40.62579,-74.0...</td>\n",
       "      <td>oz{vFffybMuQuNmZsVsFyC}D}AeLmDeO_E{JkCaEg@</td>\n",
       "      <td>BBBBBBBBB</td>\n",
       "      <td>Brooklyn</td>\n",
       "      <td>GOW N 92ND STREET - 7TH AVENUE</td>\n",
       "    </tr>\n",
       "    <tr>\n",
       "      <th>2</th>\n",
       "      <td>0.00</td>\n",
       "      <td>2019-05-20 19:29:13</td>\n",
       "      <td>4616216</td>\n",
       "      <td>40.63089,-74.14569 40.6298,-74.14569 40.62883,-74.14556 40.62805,-74.145451 40.6272105,-74.14546...</td>\n",
       "      <td>av~vFpqpcMxE?`EYzCUfD@|CZtDdAnCd@`Cz@rCdAzCzAvDlCzNlNfEfEbChBhD~AjJnBnVzDtA]|@cBD_Bq@qAaBD</td>\n",
       "      <td>BBBBBBBBBBBBBBBBBBBBBBB</td>\n",
       "      <td>Staten Island</td>\n",
       "      <td>SIE E-MLK N RICHMOND AVENUE - WALKER STREET</td>\n",
       "    </tr>\n",
       "    <tr>\n",
       "      <th>3</th>\n",
       "      <td>52.81</td>\n",
       "      <td>2019-05-20 19:29:13</td>\n",
       "      <td>4616211</td>\n",
       "      <td>40.6151706,-74.15738 40.61739,-74.16056 40.6205405,-74.16683 40.6209604,-74.16791 40.6210504,-74...</td>\n",
       "      <td>ys{vFrzrcM{LzRuRdf@sAvEQv@[lB</td>\n",
       "      <td>BBBBBB</td>\n",
       "      <td>Staten Island</td>\n",
       "      <td>SIE W RICHMOND AVENUE - SOUTH AVENUE</td>\n",
       "    </tr>\n",
       "    <tr>\n",
       "      <th>4</th>\n",
       "      <td>0.00</td>\n",
       "      <td>2019-05-20 19:29:13</td>\n",
       "      <td>4616210</td>\n",
       "      <td>40.63092,-74.14592 40.62975,-74.14593 40.62877,-74.14579 40.6279506,-74.145671 40.62713,-74.1456...</td>\n",
       "      <td>gv~vF~rpcMhF@bE[bDWbD@vCb@|D~@dCf@`Cv@jCjA~CzAhDfCrDjDfJ~IhDhDxB~AlDlBdEdArDp@jC|Bt@zBCjDeB~DgAzA</td>\n",
       "      <td>BBBBBBBBBBBBBBBBBBBBBBBB</td>\n",
       "      <td>Staten Island</td>\n",
       "      <td>MLK S - SIE W WALKER STREET - RICHMOND AVENUE</td>\n",
       "    </tr>\n",
       "  </tbody>\n",
       "</table>\n",
       "</div>"
      ],
      "text/plain": [
       "   speed           date_time  link_id  \\\n",
       "0  49.08 2019-05-20 19:29:13  4616364   \n",
       "1  34.79 2019-05-20 19:29:13  4616220   \n",
       "2   0.00 2019-05-20 19:29:13  4616216   \n",
       "3  52.81 2019-05-20 19:29:13  4616211   \n",
       "4   0.00 2019-05-20 19:29:13  4616210   \n",
       "\n",
       "                                                                                           link_points  \\\n",
       "0  40.73744001,-73.85188001  40.737015,-73.85373001  40.73673,-73.85543001  40.736526,-73.85631001 ...   \n",
       "1  40.6162405,-74.02612 40.61923,-74.02361 40.62362,-74.019831 40.6248406,-74.019061 40.62579,-74.0...   \n",
       "2  40.63089,-74.14569 40.6298,-74.14569 40.62883,-74.14556 40.62805,-74.145451 40.6272105,-74.14546...   \n",
       "3  40.6151706,-74.15738 40.61739,-74.16056 40.6205405,-74.16683 40.6209604,-74.16791 40.6210504,-74...   \n",
       "4  40.63092,-74.14592 40.62975,-74.14593 40.62877,-74.14579 40.6279506,-74.145671 40.62713,-74.1456...   \n",
       "\n",
       "                                                                                   encoded_poly_line  \\\n",
       "0                                                    _pswFfewaMtApJv@rIh@nDlFbXhH`]bJla@|@`FbHz\\fBvG   \n",
       "1                                                         oz{vFffybMuQuNmZsVsFyC}D}AeLmDeO_E{JkCaEg@   \n",
       "2         av~vFpqpcMxE?`EYzCUfD@|CZtDdAnCd@`Cz@rCdAzCzAvDlCzNlNfEfEbChBhD~AjJnBnVzDtA]|@cBD_Bq@qAaBD   \n",
       "3                                                                      ys{vFrzrcM{LzRuRdf@sAvEQv@[lB   \n",
       "4  gv~vF~rpcMhF@bE[bDWbD@vCb@|D~@dCf@`Cv@jCjA~CzAhDfCrDjDfJ~IhDhDxB~AlDlBdEdArDp@jC|Bt@zBCjDeB~DgAzA   \n",
       "\n",
       "     encoded_poly_line_lvls        borough  \\\n",
       "0                BBBBBBBBBB         Queens   \n",
       "1                 BBBBBBBBB       Brooklyn   \n",
       "2   BBBBBBBBBBBBBBBBBBBBBBB  Staten Island   \n",
       "3                    BBBBBB  Staten Island   \n",
       "4  BBBBBBBBBBBBBBBBBBBBBBBB  Staten Island   \n",
       "\n",
       "                                       link_name  \n",
       "0                       LIE W 108TH ST - 84TH ST  \n",
       "1                 GOW N 92ND STREET - 7TH AVENUE  \n",
       "2    SIE E-MLK N RICHMOND AVENUE - WALKER STREET  \n",
       "3           SIE W RICHMOND AVENUE - SOUTH AVENUE  \n",
       "4  MLK S - SIE W WALKER STREET - RICHMOND AVENUE  "
      ]
     },
     "execution_count": 3,
     "metadata": {},
     "output_type": "execute_result"
    }
   ],
   "source": [
    "### load pickle\n",
    "\n",
    "df = pd.read_pickle('./pickles/check_size.pickle')\n",
    "df.head()"
   ]
  },
  {
   "cell_type": "code",
   "execution_count": null,
   "metadata": {},
   "outputs": [],
   "source": [
    "df.shape"
   ]
  },
  {
   "cell_type": "code",
   "execution_count": null,
   "metadata": {},
   "outputs": [],
   "source": []
  },
  {
   "cell_type": "code",
   "execution_count": null,
   "metadata": {},
   "outputs": [],
   "source": []
  },
  {
   "cell_type": "code",
   "execution_count": null,
   "metadata": {},
   "outputs": [],
   "source": []
  },
  {
   "cell_type": "code",
   "execution_count": null,
   "metadata": {},
   "outputs": [],
   "source": []
  },
  {
   "cell_type": "code",
   "execution_count": null,
   "metadata": {},
   "outputs": [],
   "source": []
  },
  {
   "cell_type": "code",
   "execution_count": null,
   "metadata": {},
   "outputs": [],
   "source": [
    "data['BOROUGH'].value_counts()"
   ]
  },
  {
   "cell_type": "code",
   "execution_count": null,
   "metadata": {},
   "outputs": [],
   "source": [
    "# data['LINK_ID'].value_counts()"
   ]
  },
  {
   "cell_type": "code",
   "execution_count": null,
   "metadata": {},
   "outputs": [],
   "source": [
    "# data['ID'].value_counts()"
   ]
  },
  {
   "cell_type": "code",
   "execution_count": null,
   "metadata": {},
   "outputs": [],
   "source": [
    "data['OWNER'].value_counts()"
   ]
  },
  {
   "cell_type": "code",
   "execution_count": null,
   "metadata": {},
   "outputs": [],
   "source": []
  },
  {
   "cell_type": "code",
   "execution_count": null,
   "metadata": {},
   "outputs": [],
   "source": []
  },
  {
   "cell_type": "code",
   "execution_count": null,
   "metadata": {},
   "outputs": [],
   "source": []
  },
  {
   "cell_type": "markdown",
   "metadata": {},
   "source": [
    "### Make a data set for manhattan only"
   ]
  },
  {
   "cell_type": "code",
   "execution_count": null,
   "metadata": {},
   "outputs": [],
   "source": [
    "data_man = data[data['BOROUGH']== 'Manhattan']\n",
    "data_man = data_sm.drop(columns=['ENCODED_POLY_LINE', ])\n",
    "\n",
    "# data_man = pd.to_csv('./data/speed_data-manhattan.csv')"
   ]
  },
  {
   "cell_type": "code",
   "execution_count": null,
   "metadata": {},
   "outputs": [],
   "source": []
  },
  {
   "cell_type": "code",
   "execution_count": null,
   "metadata": {},
   "outputs": [],
   "source": []
  },
  {
   "cell_type": "raw",
   "metadata": {},
   "source": []
  },
  {
   "cell_type": "markdown",
   "metadata": {},
   "source": [
    "## Multiindex_data <a class=\"anchor\" id=\"topic-1\"></a>\n",
    "<hr/>"
   ]
  },
  {
   "cell_type": "code",
   "execution_count": null,
   "metadata": {},
   "outputs": [],
   "source": [
    "### read in data\n",
    "mdata = pd.read_csv('../data_large/multiindex_data.csv')"
   ]
  },
  {
   "cell_type": "code",
   "execution_count": null,
   "metadata": {},
   "outputs": [],
   "source": [
    "mdata.head()"
   ]
  },
  {
   "cell_type": "code",
   "execution_count": null,
   "metadata": {},
   "outputs": [],
   "source": [
    "mdata.info()"
   ]
  },
  {
   "cell_type": "code",
   "execution_count": null,
   "metadata": {},
   "outputs": [],
   "source": [
    "mdata.shape"
   ]
  },
  {
   "cell_type": "code",
   "execution_count": null,
   "metadata": {},
   "outputs": [],
   "source": [
    "mdata['DATA_AS_OF'] = pd.to_datetime(mdata['DATA_AS_OF'])"
   ]
  },
  {
   "cell_type": "code",
   "execution_count": null,
   "metadata": {},
   "outputs": [],
   "source": [
    "mdata.info()"
   ]
  },
  {
   "cell_type": "code",
   "execution_count": null,
   "metadata": {},
   "outputs": [],
   "source": [
    "some_id = mdata[mdata['LINK_ID']==4616267].copy()\n",
    "some_id.head()"
   ]
  },
  {
   "cell_type": "code",
   "execution_count": null,
   "metadata": {},
   "outputs": [],
   "source": [
    "some_id[some_id['DATA_AS_OF'] == '2019-05-04']"
   ]
  },
  {
   "cell_type": "code",
   "execution_count": null,
   "metadata": {},
   "outputs": [],
   "source": [
    "plt.scatter(some_id['DATA_AS_OF'], some_id['SPEED'], s=0.1)"
   ]
  },
  {
   "cell_type": "code",
   "execution_count": null,
   "metadata": {},
   "outputs": [],
   "source": [
    "first_day = some_id[some_id['DATA_AS_OF'].dt.date]\n",
    "first_day.head()"
   ]
  },
  {
   "cell_type": "code",
   "execution_count": null,
   "metadata": {},
   "outputs": [],
   "source": [
    "some_id[some_id['DATA_AS_OF'].dt.date == '2019-05-20']"
   ]
  },
  {
   "cell_type": "markdown",
   "metadata": {},
   "source": [
    "## Topic 2 <a class=\"anchor\" id=\"topic-2\"></a>\n",
    "<hr/>"
   ]
  },
  {
   "cell_type": "code",
   "execution_count": null,
   "metadata": {},
   "outputs": [],
   "source": [
    "### read in data\n",
    "cdata = pd.read_csv('../data_large/collisions.csv')"
   ]
  },
  {
   "cell_type": "code",
   "execution_count": null,
   "metadata": {},
   "outputs": [],
   "source": [
    "cdata.shape"
   ]
  },
  {
   "cell_type": "code",
   "execution_count": null,
   "metadata": {},
   "outputs": [],
   "source": [
    "cdata.head()"
   ]
  },
  {
   "cell_type": "code",
   "execution_count": null,
   "metadata": {},
   "outputs": [],
   "source": [
    "cdata.isnull().sum()"
   ]
  },
  {
   "cell_type": "code",
   "execution_count": null,
   "metadata": {},
   "outputs": [],
   "source": [
    "cdata.columns"
   ]
  },
  {
   "cell_type": "code",
   "execution_count": null,
   "metadata": {},
   "outputs": [],
   "source": [
    "drop_cols = ['OFF STREET NAME', 'CONTRIBUTING FACTOR VEHICLE 3',\n",
    "       'CONTRIBUTING FACTOR VEHICLE 4', 'CONTRIBUTING FACTOR VEHICLE 5',\n",
    "       'VEHICLE TYPE CODE 3', 'VEHICLE TYPE CODE 4', 'VEHICLE TYPE CODE 5']\n",
    "cdata.drop(columns=drop_cols, inplace=True)"
   ]
  },
  {
   "cell_type": "code",
   "execution_count": null,
   "metadata": {},
   "outputs": [],
   "source": [
    "cdata.head()"
   ]
  },
  {
   "cell_type": "code",
   "execution_count": null,
   "metadata": {},
   "outputs": [],
   "source": [
    "cdata['BOROUGH'].value_counts(dropna=False)"
   ]
  },
  {
   "cell_type": "code",
   "execution_count": null,
   "metadata": {},
   "outputs": [],
   "source": [
    "# cdata['NUMBER OF PERSONS INJURED'].value_counts()"
   ]
  },
  {
   "cell_type": "code",
   "execution_count": null,
   "metadata": {},
   "outputs": [],
   "source": [
    "cdata['NUMBER OF PERSONS KILLED'].value_counts()"
   ]
  },
  {
   "cell_type": "code",
   "execution_count": null,
   "metadata": {},
   "outputs": [],
   "source": [
    "cdata.info()"
   ]
  },
  {
   "cell_type": "code",
   "execution_count": null,
   "metadata": {},
   "outputs": [],
   "source": [
    "cdata_man = cdata[cdata['BOROUGH']=='MANHATTAN'].copy()"
   ]
  },
  {
   "cell_type": "code",
   "execution_count": null,
   "metadata": {},
   "outputs": [],
   "source": [
    "cdata_man.shape"
   ]
  },
  {
   "cell_type": "code",
   "execution_count": null,
   "metadata": {},
   "outputs": [],
   "source": [
    "cdata_man.columns"
   ]
  },
  {
   "cell_type": "code",
   "execution_count": null,
   "metadata": {},
   "outputs": [],
   "source": [
    "cdata_man.isna().sum()"
   ]
  },
  {
   "cell_type": "code",
   "execution_count": null,
   "metadata": {},
   "outputs": [],
   "source": [
    "cdata_man.drop(columns=['ON STREET NAME', 'CROSS STREET NAME', 'CONTRIBUTING FACTOR VEHICLE 2','VEHICLE TYPE CODE 2'], inplace=True)"
   ]
  },
  {
   "cell_type": "code",
   "execution_count": null,
   "metadata": {},
   "outputs": [],
   "source": [
    "cdata_man.dropna(axis=0, inplace=True)"
   ]
  },
  {
   "cell_type": "code",
   "execution_count": null,
   "metadata": {},
   "outputs": [],
   "source": [
    "cdata_man.shape"
   ]
  },
  {
   "cell_type": "code",
   "execution_count": null,
   "metadata": {},
   "outputs": [],
   "source": [
    "cdata_man.head()"
   ]
  },
  {
   "cell_type": "code",
   "execution_count": null,
   "metadata": {},
   "outputs": [],
   "source": [
    "cdata_man.isna().sum()"
   ]
  },
  {
   "cell_type": "code",
   "execution_count": null,
   "metadata": {},
   "outputs": [],
   "source": [
    "plt.scatter(cdata['LATITUDE'], cdata['LONGITUDE'])"
   ]
  },
  {
   "cell_type": "code",
   "execution_count": null,
   "metadata": {},
   "outputs": [],
   "source": []
  }
 ],
 "metadata": {
  "kernelspec": {
   "display_name": "Python 3",
   "language": "python",
   "name": "python3"
  },
  "language_info": {
   "codemirror_mode": {
    "name": "ipython",
    "version": 3
   },
   "file_extension": ".py",
   "mimetype": "text/x-python",
   "name": "python",
   "nbconvert_exporter": "python",
   "pygments_lexer": "ipython3",
   "version": "3.8.2"
  }
 },
 "nbformat": 4,
 "nbformat_minor": 4
}
