{
 "cells": [
  {
   "cell_type": "markdown",
   "metadata": {},
   "source": [
    "# Project 5: Identifying High Risk Areas from NYC Traffic Conditions\n",
    "## *Template Notebook*\n",
    "\n",
    "In this notebook:\n",
    "\n",
    "* [Topic 1](#topic-1)\n",
    "* [Topic 2](#topic-2)\n",
    "\n",
    "#### Import Libraries & Read in Data"
   ]
  },
  {
   "cell_type": "code",
   "execution_count": 1,
   "metadata": {},
   "outputs": [],
   "source": [
    "## standard imports \n",
    "import pandas as pd \n",
    "import numpy as np\n",
    "import re\n",
    "## visualizations\n",
    "import matplotlib.pyplot as plt\n",
    "import seaborn as sns\n",
    "## preprocessing\n",
    "from sklearn.pipeline import make_pipeline\n",
    "from sklearn.preprocessing import StandardScaler, PolynomialFeatures\n",
    "from sklearn.feature_selection import SelectKBest, f_regression\n",
    "from sklearn.dummy import DummyClassifier\n",
    "## modeling\n",
    "from sklearn.linear_model import LogisticRegression, LinearRegression, Lasso, Ridge, ElasticNet\n",
    "from sklearn.model_selection import train_test_split, GridSearchCV\n",
    "from sklearn.neighbors import KNeighborsClassifier, KNeighborsRegressor\n",
    "from sklearn.svm import SVC, SVR\n",
    "from sklearn.naive_bayes import MultinomialNB\n",
    "## trees\n",
    "from sklearn.tree import DecisionTreeClassifier, DecisionTreeRegressor\n",
    "from sklearn.ensemble import BaggingClassifier, BaggingRegressor, RandomForestClassifier, ExtraTreesClassifier, RandomForestRegressor, ExtraTreesRegressor, AdaBoostRegressor, AdaBoostClassifier, GradientBoostingRegressor\n",
    "## NLP\n",
    "from sklearn.feature_extraction.text import CountVectorizer\n",
    "## analysis\n",
    "from sklearn.metrics import confusion_matrix, plot_confusion_matrix, accuracy_score, make_scorer, f1_score, mean_squared_error\n",
    "\n",
    "## options\n",
    "import sklearn\n",
    "pd.options.display.max_rows = 4000\n",
    "pd.options.display.max_columns = 100\n",
    "pd.set_option('max_colwidth', 100)"
   ]
  },
  {
   "cell_type": "code",
   "execution_count": 2,
   "metadata": {},
   "outputs": [],
   "source": [
    "### read in data\n",
    "filename = '../data_large/nyc_speed_data_full.csv'\n",
    "data = pd.read_csv(filename)"
   ]
  },
  {
   "cell_type": "markdown",
   "metadata": {},
   "source": [
    "[NYC Real Time Traffic Data](https://data.cityofnewyork.us/Transportation/Real-Time-Traffic-Speed-Data/qkm5-nuaq)"
   ]
  },
  {
   "cell_type": "code",
   "execution_count": 18,
   "metadata": {},
   "outputs": [],
   "source": [
    "# Let's scan the csv to see how dates are ordered\n",
    "# df = pd.DataFrame()\n",
    "\n",
    "# chunksize=10**6\n",
    "\n",
    "# for chunk in pd.read_csv(filename, chunksize=chunksize):\n",
    "#     dx = pd.DataFrame(chunk)\n",
    "#     dx = dx['DATA_AS_OF']\n",
    "#     print(dx.head(2))"
   ]
  },
  {
   "cell_type": "code",
   "execution_count": 3,
   "metadata": {},
   "outputs": [
    {
     "data": {
      "text/html": [
       "<div>\n",
       "<style scoped>\n",
       "    .dataframe tbody tr th:only-of-type {\n",
       "        vertical-align: middle;\n",
       "    }\n",
       "\n",
       "    .dataframe tbody tr th {\n",
       "        vertical-align: top;\n",
       "    }\n",
       "\n",
       "    .dataframe thead th {\n",
       "        text-align: right;\n",
       "    }\n",
       "</style>\n",
       "<table border=\"1\" class=\"dataframe\">\n",
       "  <thead>\n",
       "    <tr style=\"text-align: right;\">\n",
       "      <th></th>\n",
       "      <th>ID</th>\n",
       "      <th>SPEED</th>\n",
       "      <th>TRAVEL_TIME</th>\n",
       "      <th>STATUS</th>\n",
       "      <th>DATA_AS_OF</th>\n",
       "      <th>LINK_ID</th>\n",
       "      <th>LINK_POINTS</th>\n",
       "      <th>ENCODED_POLY_LINE</th>\n",
       "      <th>ENCODED_POLY_LINE_LVLS</th>\n",
       "      <th>OWNER</th>\n",
       "      <th>TRANSCOM_ID</th>\n",
       "      <th>BOROUGH</th>\n",
       "      <th>LINK_NAME</th>\n",
       "    </tr>\n",
       "  </thead>\n",
       "  <tbody>\n",
       "    <tr>\n",
       "      <th>0</th>\n",
       "      <td>169</td>\n",
       "      <td>57.16</td>\n",
       "      <td>160</td>\n",
       "      <td>0</td>\n",
       "      <td>06/06/2020 08:33:04 AM</td>\n",
       "      <td>4616355</td>\n",
       "      <td>40.66639,-73.76248 40.66579,-73.75706 40.66574,-73.7563 40.66571,-73.7494 40.66542,-73.74244 40....</td>\n",
       "      <td>}sewFnveaMvB{`@HwCDcj@x@oj@SmCWoAw@aCc@eAgBiC_BaB}E}D_XyOiHeFeIwGgTeS_TwMsFsCWE</td>\n",
       "      <td>BBBBBBBBBBBBBBBBBBB</td>\n",
       "      <td>NYC_DOT_LIC</td>\n",
       "      <td>4616355</td>\n",
       "      <td>Queens</td>\n",
       "      <td>Belt Pkwy E 182nd St - Laurelton Pkwy N @ SSP</td>\n",
       "    </tr>\n",
       "    <tr>\n",
       "      <th>1</th>\n",
       "      <td>315</td>\n",
       "      <td>57.16</td>\n",
       "      <td>87</td>\n",
       "      <td>0</td>\n",
       "      <td>06/06/2020 08:33:04 AM</td>\n",
       "      <td>4616364</td>\n",
       "      <td>40.73744001,-73.85188001  40.737015,-73.85373001  40.73673,-73.85543001  40.736526,-73.85631001 ...</td>\n",
       "      <td>_pswFfewaMtApJv@rIh@nDlFbXhH`]bJla@\\\\\\\\\\\\\\\\\\\\\\\\\\\\\\\\|@`FbHz\\fBvG</td>\n",
       "      <td>BBBBBBBBBB</td>\n",
       "      <td>NYC_DOT_LIC</td>\n",
       "      <td>4616364</td>\n",
       "      <td>Queens</td>\n",
       "      <td>LIE W 108TH ST - 84TH ST</td>\n",
       "    </tr>\n",
       "    <tr>\n",
       "      <th>2</th>\n",
       "      <td>445</td>\n",
       "      <td>0.00</td>\n",
       "      <td>0</td>\n",
       "      <td>-101</td>\n",
       "      <td>06/06/2020 08:33:05 AM</td>\n",
       "      <td>4456494</td>\n",
       "      <td>40.7262006,-74.01112 40.7252805,-74.01128 40.7218105,-74.011981 40.7195505,-74.012471 40.71654,-...</td>\n",
       "      <td>wiqwFnhvbMvD^xb@lFxQvCrb@hHlLjChHnBPgBh@gA\\\\\\\\\\\\\\\\\\\\\\\\\\\\\\\\|@WzANnDv@\\\\\\\\\\\\\\\\\\\\\\\\\\\\\\\\|Cl@\\\\\\\\\\\\\\\\...</td>\n",
       "      <td>BBBBBBBBBBBBBBBBBBBBBBBBBBBBBBB</td>\n",
       "      <td>NYC_DOT_LIC</td>\n",
       "      <td>4456494</td>\n",
       "      <td>Manhattan</td>\n",
       "      <td>West St S Spring St - BBT Manhattan Portal outbound</td>\n",
       "    </tr>\n",
       "    <tr>\n",
       "      <th>3</th>\n",
       "      <td>379</td>\n",
       "      <td>52.19</td>\n",
       "      <td>44</td>\n",
       "      <td>0</td>\n",
       "      <td>06/06/2020 08:33:05 AM</td>\n",
       "      <td>4763650</td>\n",
       "      <td>40.60408,-74.052241 40.6036605,-74.05356 40.6033506,-74.05459 40.6029905,-74.055641 40.60213,-74...</td>\n",
       "      <td>onyvFni~bMrAfG\\\\\\\\\\\\\\\\\\\\\\\\\\\\\\\\|@lEfApEjDlOt@nDV`EBdDM~CKlD_@hFa@`C}Il\\</td>\n",
       "      <td>BBBBBBBBBBBBB</td>\n",
       "      <td>NYC_DOT_LIC</td>\n",
       "      <td>4763650</td>\n",
       "      <td>Staten Island</td>\n",
       "      <td>SIE E VNB E FINGERBOARD ROAD - SI GANTRY LOWER LEVEL</td>\n",
       "    </tr>\n",
       "    <tr>\n",
       "      <th>4</th>\n",
       "      <td>410</td>\n",
       "      <td>52.19</td>\n",
       "      <td>89</td>\n",
       "      <td>0</td>\n",
       "      <td>06/06/2020 08:33:05 AM</td>\n",
       "      <td>4763656</td>\n",
       "      <td>40.6039704,-74.052281 40.604651,-74.05021 40.60737,-74.04182 40.60795,-74.039971 40.608211,-74.0...</td>\n",
       "      <td>ymyvFvi~bMgC}K_Pms@sBqJs@{C</td>\n",
       "      <td>BBBBB</td>\n",
       "      <td>Verrazano-Narrows-Bridge</td>\n",
       "      <td>4763656</td>\n",
       "      <td>Brooklyn</td>\n",
       "      <td>VNB E SI GANTRY LOWER LEVEL - BROOLKYN GANTRY LOWER LEVEL</td>\n",
       "    </tr>\n",
       "  </tbody>\n",
       "</table>\n",
       "</div>"
      ],
      "text/plain": [
       "    ID  SPEED  TRAVEL_TIME  STATUS              DATA_AS_OF  LINK_ID  \\\n",
       "0  169  57.16          160       0  06/06/2020 08:33:04 AM  4616355   \n",
       "1  315  57.16           87       0  06/06/2020 08:33:04 AM  4616364   \n",
       "2  445   0.00            0    -101  06/06/2020 08:33:05 AM  4456494   \n",
       "3  379  52.19           44       0  06/06/2020 08:33:05 AM  4763650   \n",
       "4  410  52.19           89       0  06/06/2020 08:33:05 AM  4763656   \n",
       "\n",
       "                                                                                           LINK_POINTS  \\\n",
       "0  40.66639,-73.76248 40.66579,-73.75706 40.66574,-73.7563 40.66571,-73.7494 40.66542,-73.74244 40....   \n",
       "1  40.73744001,-73.85188001  40.737015,-73.85373001  40.73673,-73.85543001  40.736526,-73.85631001 ...   \n",
       "2  40.7262006,-74.01112 40.7252805,-74.01128 40.7218105,-74.011981 40.7195505,-74.012471 40.71654,-...   \n",
       "3  40.60408,-74.052241 40.6036605,-74.05356 40.6033506,-74.05459 40.6029905,-74.055641 40.60213,-74...   \n",
       "4  40.6039704,-74.052281 40.604651,-74.05021 40.60737,-74.04182 40.60795,-74.039971 40.608211,-74.0...   \n",
       "\n",
       "                                                                                     ENCODED_POLY_LINE  \\\n",
       "0                      }sewFnveaMvB{`@HwCDcj@x@oj@SmCWoAw@aCc@eAgBiC_BaB}E}D_XyOiHeFeIwGgTeS_TwMsFsCWE   \n",
       "1                                      _pswFfewaMtApJv@rIh@nDlFbXhH`]bJla@\\\\\\\\\\\\\\\\\\\\\\\\\\\\\\\\|@`FbHz\\fBvG   \n",
       "2  wiqwFnhvbMvD^xb@lFxQvCrb@hHlLjChHnBPgBh@gA\\\\\\\\\\\\\\\\\\\\\\\\\\\\\\\\|@WzANnDv@\\\\\\\\\\\\\\\\\\\\\\\\\\\\\\\\|Cl@\\\\\\\\\\\\\\\\...   \n",
       "3                               onyvFni~bMrAfG\\\\\\\\\\\\\\\\\\\\\\\\\\\\\\\\|@lEfApEjDlOt@nDV`EBdDM~CKlD_@hFa@`C}Il\\   \n",
       "4                                                                          ymyvFvi~bMgC}K_Pms@sBqJs@{C   \n",
       "\n",
       "            ENCODED_POLY_LINE_LVLS                     OWNER  TRANSCOM_ID  \\\n",
       "0              BBBBBBBBBBBBBBBBBBB               NYC_DOT_LIC      4616355   \n",
       "1                       BBBBBBBBBB               NYC_DOT_LIC      4616364   \n",
       "2  BBBBBBBBBBBBBBBBBBBBBBBBBBBBBBB               NYC_DOT_LIC      4456494   \n",
       "3                    BBBBBBBBBBBBB               NYC_DOT_LIC      4763650   \n",
       "4                            BBBBB  Verrazano-Narrows-Bridge      4763656   \n",
       "\n",
       "         BOROUGH                                                  LINK_NAME  \n",
       "0         Queens              Belt Pkwy E 182nd St - Laurelton Pkwy N @ SSP  \n",
       "1         Queens                                   LIE W 108TH ST - 84TH ST  \n",
       "2      Manhattan        West St S Spring St - BBT Manhattan Portal outbound  \n",
       "3  Staten Island       SIE E VNB E FINGERBOARD ROAD - SI GANTRY LOWER LEVEL  \n",
       "4       Brooklyn  VNB E SI GANTRY LOWER LEVEL - BROOLKYN GANTRY LOWER LEVEL  "
      ]
     },
     "execution_count": 3,
     "metadata": {},
     "output_type": "execute_result"
    }
   ],
   "source": [
    "data.head()"
   ]
  },
  {
   "cell_type": "code",
   "execution_count": 4,
   "metadata": {},
   "outputs": [
    {
     "name": "stdout",
     "output_type": "stream",
     "text": [
      "<class 'pandas.core.frame.DataFrame'>\n",
      "RangeIndex: 42532970 entries, 0 to 42532969\n",
      "Data columns (total 13 columns):\n",
      " #   Column                  Dtype  \n",
      "---  ------                  -----  \n",
      " 0   ID                      int64  \n",
      " 1   SPEED                   float64\n",
      " 2   TRAVEL_TIME             int64  \n",
      " 3   STATUS                  int64  \n",
      " 4   DATA_AS_OF              object \n",
      " 5   LINK_ID                 int64  \n",
      " 6   LINK_POINTS             object \n",
      " 7   ENCODED_POLY_LINE       object \n",
      " 8   ENCODED_POLY_LINE_LVLS  object \n",
      " 9   OWNER                   object \n",
      " 10  TRANSCOM_ID             int64  \n",
      " 11  BOROUGH                 object \n",
      " 12  LINK_NAME               object \n",
      "dtypes: float64(1), int64(5), object(7)\n",
      "memory usage: 4.1+ GB\n"
     ]
    }
   ],
   "source": [
    "data.info()"
   ]
  },
  {
   "cell_type": "markdown",
   "metadata": {},
   "source": [
    "## Data Cleaning & Reduction<a class=\"anchor\" id=\"topic-1\"></a>\n",
    "<hr/>"
   ]
  },
  {
   "cell_type": "markdown",
   "metadata": {},
   "source": [
    "Notes on data:\n",
    "\n",
    "* ID and LINK_ID are the same (according to the data dictionary) Drop one of these (I say ID so LINK_ID is easy to associate to LINK_POINTS\n",
    "* Says both STATUS and TRANSCOM_ID are not useful (artifacts) -- drop these\n",
    "* TRAVEL_TIME - units? -- drop\n"
   ]
  },
  {
   "cell_type": "code",
   "execution_count": 5,
   "metadata": {},
   "outputs": [],
   "source": [
    "drop_cols = ['ID', 'TRAVEL_TIME', 'STATUS',\n",
    "       'OWNER', 'TRANSCOM_ID', 'ENCODED_POLY_LINE','ENCODED_POLY_LINE_LVLS']\n",
    "# # drop_cols = ['ID', 'TRAVEL_TIME', 'STATUS',\n",
    "# #        'OWNER', 'TRANSCOM_ID']\n",
    "# drop_cols = ['ENCODED_POLY_LINE','ENCODED_POLY_LINE_LVLS']\n",
    "data.drop(columns=drop_cols, axis=1, inplace=True)"
   ]
  },
  {
   "cell_type": "code",
   "execution_count": 6,
   "metadata": {},
   "outputs": [
    {
     "data": {
      "text/html": [
       "<div>\n",
       "<style scoped>\n",
       "    .dataframe tbody tr th:only-of-type {\n",
       "        vertical-align: middle;\n",
       "    }\n",
       "\n",
       "    .dataframe tbody tr th {\n",
       "        vertical-align: top;\n",
       "    }\n",
       "\n",
       "    .dataframe thead th {\n",
       "        text-align: right;\n",
       "    }\n",
       "</style>\n",
       "<table border=\"1\" class=\"dataframe\">\n",
       "  <thead>\n",
       "    <tr style=\"text-align: right;\">\n",
       "      <th></th>\n",
       "      <th>SPEED</th>\n",
       "      <th>DATA_AS_OF</th>\n",
       "      <th>LINK_ID</th>\n",
       "      <th>LINK_POINTS</th>\n",
       "      <th>BOROUGH</th>\n",
       "      <th>LINK_NAME</th>\n",
       "    </tr>\n",
       "  </thead>\n",
       "  <tbody>\n",
       "    <tr>\n",
       "      <th>0</th>\n",
       "      <td>57.16</td>\n",
       "      <td>06/06/2020 08:33:04 AM</td>\n",
       "      <td>4616355</td>\n",
       "      <td>40.66639,-73.76248 40.66579,-73.75706 40.66574,-73.7563 40.66571,-73.7494 40.66542,-73.74244 40....</td>\n",
       "      <td>Queens</td>\n",
       "      <td>Belt Pkwy E 182nd St - Laurelton Pkwy N @ SSP</td>\n",
       "    </tr>\n",
       "    <tr>\n",
       "      <th>1</th>\n",
       "      <td>57.16</td>\n",
       "      <td>06/06/2020 08:33:04 AM</td>\n",
       "      <td>4616364</td>\n",
       "      <td>40.73744001,-73.85188001  40.737015,-73.85373001  40.73673,-73.85543001  40.736526,-73.85631001 ...</td>\n",
       "      <td>Queens</td>\n",
       "      <td>LIE W 108TH ST - 84TH ST</td>\n",
       "    </tr>\n",
       "    <tr>\n",
       "      <th>2</th>\n",
       "      <td>0.00</td>\n",
       "      <td>06/06/2020 08:33:05 AM</td>\n",
       "      <td>4456494</td>\n",
       "      <td>40.7262006,-74.01112 40.7252805,-74.01128 40.7218105,-74.011981 40.7195505,-74.012471 40.71654,-...</td>\n",
       "      <td>Manhattan</td>\n",
       "      <td>West St S Spring St - BBT Manhattan Portal outbound</td>\n",
       "    </tr>\n",
       "    <tr>\n",
       "      <th>3</th>\n",
       "      <td>52.19</td>\n",
       "      <td>06/06/2020 08:33:05 AM</td>\n",
       "      <td>4763650</td>\n",
       "      <td>40.60408,-74.052241 40.6036605,-74.05356 40.6033506,-74.05459 40.6029905,-74.055641 40.60213,-74...</td>\n",
       "      <td>Staten Island</td>\n",
       "      <td>SIE E VNB E FINGERBOARD ROAD - SI GANTRY LOWER LEVEL</td>\n",
       "    </tr>\n",
       "    <tr>\n",
       "      <th>4</th>\n",
       "      <td>52.19</td>\n",
       "      <td>06/06/2020 08:33:05 AM</td>\n",
       "      <td>4763656</td>\n",
       "      <td>40.6039704,-74.052281 40.604651,-74.05021 40.60737,-74.04182 40.60795,-74.039971 40.608211,-74.0...</td>\n",
       "      <td>Brooklyn</td>\n",
       "      <td>VNB E SI GANTRY LOWER LEVEL - BROOLKYN GANTRY LOWER LEVEL</td>\n",
       "    </tr>\n",
       "  </tbody>\n",
       "</table>\n",
       "</div>"
      ],
      "text/plain": [
       "   SPEED              DATA_AS_OF  LINK_ID  \\\n",
       "0  57.16  06/06/2020 08:33:04 AM  4616355   \n",
       "1  57.16  06/06/2020 08:33:04 AM  4616364   \n",
       "2   0.00  06/06/2020 08:33:05 AM  4456494   \n",
       "3  52.19  06/06/2020 08:33:05 AM  4763650   \n",
       "4  52.19  06/06/2020 08:33:05 AM  4763656   \n",
       "\n",
       "                                                                                           LINK_POINTS  \\\n",
       "0  40.66639,-73.76248 40.66579,-73.75706 40.66574,-73.7563 40.66571,-73.7494 40.66542,-73.74244 40....   \n",
       "1  40.73744001,-73.85188001  40.737015,-73.85373001  40.73673,-73.85543001  40.736526,-73.85631001 ...   \n",
       "2  40.7262006,-74.01112 40.7252805,-74.01128 40.7218105,-74.011981 40.7195505,-74.012471 40.71654,-...   \n",
       "3  40.60408,-74.052241 40.6036605,-74.05356 40.6033506,-74.05459 40.6029905,-74.055641 40.60213,-74...   \n",
       "4  40.6039704,-74.052281 40.604651,-74.05021 40.60737,-74.04182 40.60795,-74.039971 40.608211,-74.0...   \n",
       "\n",
       "         BOROUGH                                                  LINK_NAME  \n",
       "0         Queens              Belt Pkwy E 182nd St - Laurelton Pkwy N @ SSP  \n",
       "1         Queens                                   LIE W 108TH ST - 84TH ST  \n",
       "2      Manhattan        West St S Spring St - BBT Manhattan Portal outbound  \n",
       "3  Staten Island       SIE E VNB E FINGERBOARD ROAD - SI GANTRY LOWER LEVEL  \n",
       "4       Brooklyn  VNB E SI GANTRY LOWER LEVEL - BROOLKYN GANTRY LOWER LEVEL  "
      ]
     },
     "execution_count": 6,
     "metadata": {},
     "output_type": "execute_result"
    }
   ],
   "source": [
    "data.head()"
   ]
  },
  {
   "cell_type": "code",
   "execution_count": 7,
   "metadata": {},
   "outputs": [
    {
     "data": {
      "text/html": [
       "<div>\n",
       "<style scoped>\n",
       "    .dataframe tbody tr th:only-of-type {\n",
       "        vertical-align: middle;\n",
       "    }\n",
       "\n",
       "    .dataframe tbody tr th {\n",
       "        vertical-align: top;\n",
       "    }\n",
       "\n",
       "    .dataframe thead th {\n",
       "        text-align: right;\n",
       "    }\n",
       "</style>\n",
       "<table border=\"1\" class=\"dataframe\">\n",
       "  <thead>\n",
       "    <tr style=\"text-align: right;\">\n",
       "      <th></th>\n",
       "      <th>SPEED</th>\n",
       "      <th>DATE</th>\n",
       "      <th>LINK_ID</th>\n",
       "      <th>LINK_POINTS</th>\n",
       "      <th>BOROUGH</th>\n",
       "      <th>LINK_NAME</th>\n",
       "    </tr>\n",
       "  </thead>\n",
       "  <tbody>\n",
       "    <tr>\n",
       "      <th>0</th>\n",
       "      <td>57.16</td>\n",
       "      <td>06/06/2020 08:33:04 AM</td>\n",
       "      <td>4616355</td>\n",
       "      <td>40.66639,-73.76248 40.66579,-73.75706 40.66574,-73.7563 40.66571,-73.7494 40.66542,-73.74244 40....</td>\n",
       "      <td>Queens</td>\n",
       "      <td>Belt Pkwy E 182nd St - Laurelton Pkwy N @ SSP</td>\n",
       "    </tr>\n",
       "    <tr>\n",
       "      <th>1</th>\n",
       "      <td>57.16</td>\n",
       "      <td>06/06/2020 08:33:04 AM</td>\n",
       "      <td>4616364</td>\n",
       "      <td>40.73744001,-73.85188001  40.737015,-73.85373001  40.73673,-73.85543001  40.736526,-73.85631001 ...</td>\n",
       "      <td>Queens</td>\n",
       "      <td>LIE W 108TH ST - 84TH ST</td>\n",
       "    </tr>\n",
       "    <tr>\n",
       "      <th>2</th>\n",
       "      <td>0.00</td>\n",
       "      <td>06/06/2020 08:33:05 AM</td>\n",
       "      <td>4456494</td>\n",
       "      <td>40.7262006,-74.01112 40.7252805,-74.01128 40.7218105,-74.011981 40.7195505,-74.012471 40.71654,-...</td>\n",
       "      <td>Manhattan</td>\n",
       "      <td>West St S Spring St - BBT Manhattan Portal outbound</td>\n",
       "    </tr>\n",
       "    <tr>\n",
       "      <th>3</th>\n",
       "      <td>52.19</td>\n",
       "      <td>06/06/2020 08:33:05 AM</td>\n",
       "      <td>4763650</td>\n",
       "      <td>40.60408,-74.052241 40.6036605,-74.05356 40.6033506,-74.05459 40.6029905,-74.055641 40.60213,-74...</td>\n",
       "      <td>Staten Island</td>\n",
       "      <td>SIE E VNB E FINGERBOARD ROAD - SI GANTRY LOWER LEVEL</td>\n",
       "    </tr>\n",
       "    <tr>\n",
       "      <th>4</th>\n",
       "      <td>52.19</td>\n",
       "      <td>06/06/2020 08:33:05 AM</td>\n",
       "      <td>4763656</td>\n",
       "      <td>40.6039704,-74.052281 40.604651,-74.05021 40.60737,-74.04182 40.60795,-74.039971 40.608211,-74.0...</td>\n",
       "      <td>Brooklyn</td>\n",
       "      <td>VNB E SI GANTRY LOWER LEVEL - BROOLKYN GANTRY LOWER LEVEL</td>\n",
       "    </tr>\n",
       "  </tbody>\n",
       "</table>\n",
       "</div>"
      ],
      "text/plain": [
       "   SPEED                    DATE  LINK_ID  \\\n",
       "0  57.16  06/06/2020 08:33:04 AM  4616355   \n",
       "1  57.16  06/06/2020 08:33:04 AM  4616364   \n",
       "2   0.00  06/06/2020 08:33:05 AM  4456494   \n",
       "3  52.19  06/06/2020 08:33:05 AM  4763650   \n",
       "4  52.19  06/06/2020 08:33:05 AM  4763656   \n",
       "\n",
       "                                                                                           LINK_POINTS  \\\n",
       "0  40.66639,-73.76248 40.66579,-73.75706 40.66574,-73.7563 40.66571,-73.7494 40.66542,-73.74244 40....   \n",
       "1  40.73744001,-73.85188001  40.737015,-73.85373001  40.73673,-73.85543001  40.736526,-73.85631001 ...   \n",
       "2  40.7262006,-74.01112 40.7252805,-74.01128 40.7218105,-74.011981 40.7195505,-74.012471 40.71654,-...   \n",
       "3  40.60408,-74.052241 40.6036605,-74.05356 40.6033506,-74.05459 40.6029905,-74.055641 40.60213,-74...   \n",
       "4  40.6039704,-74.052281 40.604651,-74.05021 40.60737,-74.04182 40.60795,-74.039971 40.608211,-74.0...   \n",
       "\n",
       "         BOROUGH                                                  LINK_NAME  \n",
       "0         Queens              Belt Pkwy E 182nd St - Laurelton Pkwy N @ SSP  \n",
       "1         Queens                                   LIE W 108TH ST - 84TH ST  \n",
       "2      Manhattan        West St S Spring St - BBT Manhattan Portal outbound  \n",
       "3  Staten Island       SIE E VNB E FINGERBOARD ROAD - SI GANTRY LOWER LEVEL  \n",
       "4       Brooklyn  VNB E SI GANTRY LOWER LEVEL - BROOLKYN GANTRY LOWER LEVEL  "
      ]
     },
     "execution_count": 7,
     "metadata": {},
     "output_type": "execute_result"
    }
   ],
   "source": [
    "### rename columns\n",
    "rename_cols = {\n",
    "    'DATA_AS_OF' : 'DATE',\n",
    "}\n",
    "\n",
    "data.rename(columns=rename_cols, inplace=True)\n",
    "data.head()"
   ]
  },
  {
   "cell_type": "code",
   "execution_count": 9,
   "metadata": {},
   "outputs": [],
   "source": [
    "data['DATE'] = pd.to_datetime(data['DATE'])"
   ]
  },
  {
   "cell_type": "code",
   "execution_count": 12,
   "metadata": {},
   "outputs": [
    {
     "data": {
      "text/html": [
       "<div>\n",
       "<style scoped>\n",
       "    .dataframe tbody tr th:only-of-type {\n",
       "        vertical-align: middle;\n",
       "    }\n",
       "\n",
       "    .dataframe tbody tr th {\n",
       "        vertical-align: top;\n",
       "    }\n",
       "\n",
       "    .dataframe thead th {\n",
       "        text-align: right;\n",
       "    }\n",
       "</style>\n",
       "<table border=\"1\" class=\"dataframe\">\n",
       "  <thead>\n",
       "    <tr style=\"text-align: right;\">\n",
       "      <th></th>\n",
       "      <th>SPEED</th>\n",
       "      <th>DATE</th>\n",
       "      <th>LINK_ID</th>\n",
       "      <th>LINK_POINTS</th>\n",
       "      <th>BOROUGH</th>\n",
       "      <th>LINK_NAME</th>\n",
       "    </tr>\n",
       "  </thead>\n",
       "  <tbody>\n",
       "    <tr>\n",
       "      <th>0</th>\n",
       "      <td>57.16</td>\n",
       "      <td>2020-06-06 08:33:04</td>\n",
       "      <td>4616355</td>\n",
       "      <td>40.66639,-73.76248 40.66579,-73.75706 40.66574,-73.7563 40.66571,-73.7494 40.66542,-73.74244 40....</td>\n",
       "      <td>Queens</td>\n",
       "      <td>Belt Pkwy E 182nd St - Laurelton Pkwy N @ SSP</td>\n",
       "    </tr>\n",
       "    <tr>\n",
       "      <th>1</th>\n",
       "      <td>57.16</td>\n",
       "      <td>2020-06-06 08:33:04</td>\n",
       "      <td>4616364</td>\n",
       "      <td>40.73744001,-73.85188001  40.737015,-73.85373001  40.73673,-73.85543001  40.736526,-73.85631001 ...</td>\n",
       "      <td>Queens</td>\n",
       "      <td>LIE W 108TH ST - 84TH ST</td>\n",
       "    </tr>\n",
       "    <tr>\n",
       "      <th>2</th>\n",
       "      <td>0.00</td>\n",
       "      <td>2020-06-06 08:33:05</td>\n",
       "      <td>4456494</td>\n",
       "      <td>40.7262006,-74.01112 40.7252805,-74.01128 40.7218105,-74.011981 40.7195505,-74.012471 40.71654,-...</td>\n",
       "      <td>Manhattan</td>\n",
       "      <td>West St S Spring St - BBT Manhattan Portal outbound</td>\n",
       "    </tr>\n",
       "    <tr>\n",
       "      <th>3</th>\n",
       "      <td>52.19</td>\n",
       "      <td>2020-06-06 08:33:05</td>\n",
       "      <td>4763650</td>\n",
       "      <td>40.60408,-74.052241 40.6036605,-74.05356 40.6033506,-74.05459 40.6029905,-74.055641 40.60213,-74...</td>\n",
       "      <td>Staten Island</td>\n",
       "      <td>SIE E VNB E FINGERBOARD ROAD - SI GANTRY LOWER LEVEL</td>\n",
       "    </tr>\n",
       "    <tr>\n",
       "      <th>4</th>\n",
       "      <td>52.19</td>\n",
       "      <td>2020-06-06 08:33:05</td>\n",
       "      <td>4763656</td>\n",
       "      <td>40.6039704,-74.052281 40.604651,-74.05021 40.60737,-74.04182 40.60795,-74.039971 40.608211,-74.0...</td>\n",
       "      <td>Brooklyn</td>\n",
       "      <td>VNB E SI GANTRY LOWER LEVEL - BROOLKYN GANTRY LOWER LEVEL</td>\n",
       "    </tr>\n",
       "  </tbody>\n",
       "</table>\n",
       "</div>"
      ],
      "text/plain": [
       "   SPEED                DATE  LINK_ID  \\\n",
       "0  57.16 2020-06-06 08:33:04  4616355   \n",
       "1  57.16 2020-06-06 08:33:04  4616364   \n",
       "2   0.00 2020-06-06 08:33:05  4456494   \n",
       "3  52.19 2020-06-06 08:33:05  4763650   \n",
       "4  52.19 2020-06-06 08:33:05  4763656   \n",
       "\n",
       "                                                                                           LINK_POINTS  \\\n",
       "0  40.66639,-73.76248 40.66579,-73.75706 40.66574,-73.7563 40.66571,-73.7494 40.66542,-73.74244 40....   \n",
       "1  40.73744001,-73.85188001  40.737015,-73.85373001  40.73673,-73.85543001  40.736526,-73.85631001 ...   \n",
       "2  40.7262006,-74.01112 40.7252805,-74.01128 40.7218105,-74.011981 40.7195505,-74.012471 40.71654,-...   \n",
       "3  40.60408,-74.052241 40.6036605,-74.05356 40.6033506,-74.05459 40.6029905,-74.055641 40.60213,-74...   \n",
       "4  40.6039704,-74.052281 40.604651,-74.05021 40.60737,-74.04182 40.60795,-74.039971 40.608211,-74.0...   \n",
       "\n",
       "         BOROUGH                                                  LINK_NAME  \n",
       "0         Queens              Belt Pkwy E 182nd St - Laurelton Pkwy N @ SSP  \n",
       "1         Queens                                   LIE W 108TH ST - 84TH ST  \n",
       "2      Manhattan        West St S Spring St - BBT Manhattan Portal outbound  \n",
       "3  Staten Island       SIE E VNB E FINGERBOARD ROAD - SI GANTRY LOWER LEVEL  \n",
       "4       Brooklyn  VNB E SI GANTRY LOWER LEVEL - BROOLKYN GANTRY LOWER LEVEL  "
      ]
     },
     "execution_count": 12,
     "metadata": {},
     "output_type": "execute_result"
    }
   ],
   "source": [
    "data.head()"
   ]
  },
  {
   "cell_type": "code",
   "execution_count": 11,
   "metadata": {},
   "outputs": [
    {
     "name": "stdout",
     "output_type": "stream",
     "text": [
      "<class 'pandas.core.frame.DataFrame'>\n",
      "RangeIndex: 42532970 entries, 0 to 42532969\n",
      "Data columns (total 6 columns):\n",
      " #   Column       Dtype         \n",
      "---  ------       -----         \n",
      " 0   SPEED        float64       \n",
      " 1   DATE         datetime64[ns]\n",
      " 2   LINK_ID      int64         \n",
      " 3   LINK_POINTS  object        \n",
      " 4   BOROUGH      object        \n",
      " 5   LINK_NAME    object        \n",
      "dtypes: datetime64[ns](1), float64(1), int64(1), object(3)\n",
      "memory usage: 1.9+ GB\n"
     ]
    }
   ],
   "source": [
    "data.info()"
   ]
  },
  {
   "cell_type": "code",
   "execution_count": null,
   "metadata": {},
   "outputs": [],
   "source": [
    "# data.sort_values(by = ['DATE'], axis=1)\n"
   ]
  },
  {
   "cell_type": "code",
   "execution_count": 13,
   "metadata": {},
   "outputs": [],
   "source": [
    "data.to_pickle('../data_large/speed_data.pickle')"
   ]
  },
  {
   "cell_type": "code",
   "execution_count": null,
   "metadata": {},
   "outputs": [],
   "source": [
    "### reduce down to years 2018-2019\n",
    "data.sort()"
   ]
  },
  {
   "cell_type": "code",
   "execution_count": 17,
   "metadata": {},
   "outputs": [
    {
     "name": "stdout",
     "output_type": "stream",
     "text": [
      "<class 'pandas.core.frame.DataFrame'>\n",
      "RangeIndex: 42532970 entries, 0 to 42532969\n",
      "Data columns (total 6 columns):\n",
      " #   Column       Dtype         \n",
      "---  ------       -----         \n",
      " 0   SPEED        float64       \n",
      " 1   DATE         datetime64[ns]\n",
      " 2   LINK_ID      int64         \n",
      " 3   LINK_POINTS  object        \n",
      " 4   BOROUGH      object        \n",
      " 5   LINK_NAME    object        \n",
      "dtypes: datetime64[ns](1), float64(1), int64(1), object(3)\n",
      "memory usage: 1.9+ GB\n"
     ]
    }
   ],
   "source": [
    "data.info()"
   ]
  },
  {
   "cell_type": "code",
   "execution_count": 14,
   "metadata": {},
   "outputs": [],
   "source": [
    "speeds = data[['SPEED', 'DATE', 'LINK_ID']]"
   ]
  },
  {
   "cell_type": "code",
   "execution_count": 26,
   "metadata": {},
   "outputs": [],
   "source": [
    "# speeds[(speeds['DATE'].dt.year == '2018-01-01')]\n",
    "speeds_18_19 = speeds[(speeds['DATE'] > '2017-12-31') & (speeds['DATE'] < '2020-01-01')]"
   ]
  },
  {
   "cell_type": "code",
   "execution_count": 27,
   "metadata": {},
   "outputs": [],
   "source": [
    "speeds_18_19.to_pickle('../data_large/speed_data_2018-2019.pickle')"
   ]
  },
  {
   "cell_type": "code",
   "execution_count": 54,
   "metadata": {},
   "outputs": [],
   "source": [
    "speeds_18 = speeds[(speeds['DATE'] > '2018-01-01') & (speeds['DATE'] < '2019-01-01')]\n",
    "speeds_19 = speeds[(speeds['DATE'] > '2019-01-01') & (speeds['DATE'] < '2020-01-01')]"
   ]
  },
  {
   "cell_type": "code",
   "execution_count": 50,
   "metadata": {},
   "outputs": [
    {
     "data": {
      "text/plain": [
       "(13898987, 3)"
      ]
     },
     "execution_count": 50,
     "metadata": {},
     "output_type": "execute_result"
    }
   ],
   "source": [
    "speeds_18.shape"
   ]
  },
  {
   "cell_type": "code",
   "execution_count": 49,
   "metadata": {},
   "outputs": [
    {
     "data": {
      "text/plain": [
       "(13010735, 3)"
      ]
     },
     "execution_count": 49,
     "metadata": {},
     "output_type": "execute_result"
    }
   ],
   "source": [
    "speeds_19.shape"
   ]
  },
  {
   "cell_type": "code",
   "execution_count": 55,
   "metadata": {},
   "outputs": [],
   "source": [
    "speeds_18.to_pickle('../data_large/speed_data_2018.pickle')\n",
    "speeds_19.to_pickle('../data_large/speed_data_2019.pickle')"
   ]
  },
  {
   "cell_type": "markdown",
   "metadata": {},
   "source": [
    "## Topic 2 <a class=\"anchor\" id=\"topic-2\"></a>\n",
    "<hr/>"
   ]
  },
  {
   "cell_type": "code",
   "execution_count": 56,
   "metadata": {},
   "outputs": [],
   "source": [
    "speed_data_18 = pd.read_pickle('../data_large/speed_data_2018.pickle')\n",
    "speed_data_19 = pd.read_pickle('../data_large/speed_data_2019.pickle')"
   ]
  },
  {
   "cell_type": "code",
   "execution_count": 59,
   "metadata": {},
   "outputs": [
    {
     "name": "stdout",
     "output_type": "stream",
     "text": [
      "<class 'pandas.core.frame.DataFrame'>\n",
      "Int64Index: 13860107 entries, 4119727 to 24546348\n",
      "Data columns (total 3 columns):\n",
      " #   Column   Dtype         \n",
      "---  ------   -----         \n",
      " 0   SPEED    float64       \n",
      " 1   DATE     datetime64[ns]\n",
      " 2   LINK_ID  int64         \n",
      "dtypes: datetime64[ns](1), float64(1), int64(1)\n",
      "memory usage: 423.0 MB\n"
     ]
    }
   ],
   "source": [
    "speed_data_18.info()"
   ]
  },
  {
   "cell_type": "code",
   "execution_count": 57,
   "metadata": {},
   "outputs": [
    {
     "data": {
      "text/html": [
       "<div>\n",
       "<style scoped>\n",
       "    .dataframe tbody tr th:only-of-type {\n",
       "        vertical-align: middle;\n",
       "    }\n",
       "\n",
       "    .dataframe tbody tr th {\n",
       "        vertical-align: top;\n",
       "    }\n",
       "\n",
       "    .dataframe thead th {\n",
       "        text-align: right;\n",
       "    }\n",
       "</style>\n",
       "<table border=\"1\" class=\"dataframe\">\n",
       "  <thead>\n",
       "    <tr style=\"text-align: right;\">\n",
       "      <th></th>\n",
       "      <th>SPEED</th>\n",
       "      <th>DATE</th>\n",
       "      <th>LINK_ID</th>\n",
       "    </tr>\n",
       "  </thead>\n",
       "  <tbody>\n",
       "    <tr>\n",
       "      <th>16784299</th>\n",
       "      <td>44.11</td>\n",
       "      <td>2018-06-19 03:38:03</td>\n",
       "      <td>4763657</td>\n",
       "    </tr>\n",
       "    <tr>\n",
       "      <th>21662463</th>\n",
       "      <td>43.49</td>\n",
       "      <td>2018-10-20 06:13:39</td>\n",
       "      <td>4763657</td>\n",
       "    </tr>\n",
       "    <tr>\n",
       "      <th>11214302</th>\n",
       "      <td>47.84</td>\n",
       "      <td>2018-01-28 00:18:03</td>\n",
       "      <td>4763657</td>\n",
       "    </tr>\n",
       "    <tr>\n",
       "      <th>19948520</th>\n",
       "      <td>45.36</td>\n",
       "      <td>2018-09-06 17:38:22</td>\n",
       "      <td>4763657</td>\n",
       "    </tr>\n",
       "    <tr>\n",
       "      <th>14879977</th>\n",
       "      <td>45.36</td>\n",
       "      <td>2018-04-30 12:08:02</td>\n",
       "      <td>4763657</td>\n",
       "    </tr>\n",
       "    <tr>\n",
       "      <th>...</th>\n",
       "      <td>...</td>\n",
       "      <td>...</td>\n",
       "      <td>...</td>\n",
       "    </tr>\n",
       "    <tr>\n",
       "      <th>15758170</th>\n",
       "      <td>9.32</td>\n",
       "      <td>2018-05-24 09:23:03</td>\n",
       "      <td>4329472</td>\n",
       "    </tr>\n",
       "    <tr>\n",
       "      <th>17022422</th>\n",
       "      <td>38.52</td>\n",
       "      <td>2018-06-25 00:48:04</td>\n",
       "      <td>4329472</td>\n",
       "    </tr>\n",
       "    <tr>\n",
       "      <th>14592812</th>\n",
       "      <td>12.42</td>\n",
       "      <td>2018-04-23 09:38:03</td>\n",
       "      <td>4329472</td>\n",
       "    </tr>\n",
       "    <tr>\n",
       "      <th>12902384</th>\n",
       "      <td>13.04</td>\n",
       "      <td>2018-03-11 17:13:03</td>\n",
       "      <td>4329472</td>\n",
       "    </tr>\n",
       "    <tr>\n",
       "      <th>16502444</th>\n",
       "      <td>41.63</td>\n",
       "      <td>2018-06-12 02:53:03</td>\n",
       "      <td>4329472</td>\n",
       "    </tr>\n",
       "  </tbody>\n",
       "</table>\n",
       "<p>13860107 rows × 3 columns</p>\n",
       "</div>"
      ],
      "text/plain": [
       "          SPEED                DATE  LINK_ID\n",
       "16784299  44.11 2018-06-19 03:38:03  4763657\n",
       "21662463  43.49 2018-10-20 06:13:39  4763657\n",
       "11214302  47.84 2018-01-28 00:18:03  4763657\n",
       "19948520  45.36 2018-09-06 17:38:22  4763657\n",
       "14879977  45.36 2018-04-30 12:08:02  4763657\n",
       "...         ...                 ...      ...\n",
       "15758170   9.32 2018-05-24 09:23:03  4329472\n",
       "17022422  38.52 2018-06-25 00:48:04  4329472\n",
       "14592812  12.42 2018-04-23 09:38:03  4329472\n",
       "12902384  13.04 2018-03-11 17:13:03  4329472\n",
       "16502444  41.63 2018-06-12 02:53:03  4329472\n",
       "\n",
       "[13860107 rows x 3 columns]"
      ]
     },
     "execution_count": 57,
     "metadata": {},
     "output_type": "execute_result"
    }
   ],
   "source": [
    "speed_data_18.sort_values(by=['LINK_ID'], ascending=False)"
   ]
  },
  {
   "cell_type": "code",
   "execution_count": null,
   "metadata": {},
   "outputs": [],
   "source": []
  },
  {
   "cell_type": "code",
   "execution_count": 60,
   "metadata": {},
   "outputs": [],
   "source": [
    "### filter data by some link ID\n",
    "\n",
    "link_id = 4763657\n",
    "\n",
    "link_data_18 = speed_data_18[speed_data_18['LINK_ID'] == link_id]"
   ]
  },
  {
   "cell_type": "code",
   "execution_count": 61,
   "metadata": {},
   "outputs": [
    {
     "data": {
      "text/html": [
       "<div>\n",
       "<style scoped>\n",
       "    .dataframe tbody tr th:only-of-type {\n",
       "        vertical-align: middle;\n",
       "    }\n",
       "\n",
       "    .dataframe tbody tr th {\n",
       "        vertical-align: top;\n",
       "    }\n",
       "\n",
       "    .dataframe thead th {\n",
       "        text-align: right;\n",
       "    }\n",
       "</style>\n",
       "<table border=\"1\" class=\"dataframe\">\n",
       "  <thead>\n",
       "    <tr style=\"text-align: right;\">\n",
       "      <th></th>\n",
       "      <th>SPEED</th>\n",
       "      <th>DATE</th>\n",
       "      <th>LINK_ID</th>\n",
       "    </tr>\n",
       "  </thead>\n",
       "  <tbody>\n",
       "    <tr>\n",
       "      <th>10149500</th>\n",
       "      <td>44.73</td>\n",
       "      <td>2018-01-01 00:02:10</td>\n",
       "      <td>4763657</td>\n",
       "    </tr>\n",
       "    <tr>\n",
       "      <th>10149637</th>\n",
       "      <td>44.73</td>\n",
       "      <td>2018-01-01 00:07:09</td>\n",
       "      <td>4763657</td>\n",
       "    </tr>\n",
       "    <tr>\n",
       "      <th>10149836</th>\n",
       "      <td>44.11</td>\n",
       "      <td>2018-01-01 00:12:12</td>\n",
       "      <td>4763657</td>\n",
       "    </tr>\n",
       "    <tr>\n",
       "      <th>10149902</th>\n",
       "      <td>44.73</td>\n",
       "      <td>2018-01-01 00:17:09</td>\n",
       "      <td>4763657</td>\n",
       "    </tr>\n",
       "    <tr>\n",
       "      <th>10150047</th>\n",
       "      <td>44.73</td>\n",
       "      <td>2018-01-01 00:22:11</td>\n",
       "      <td>4763657</td>\n",
       "    </tr>\n",
       "    <tr>\n",
       "      <th>10150193</th>\n",
       "      <td>45.36</td>\n",
       "      <td>2018-01-01 00:27:11</td>\n",
       "      <td>4763657</td>\n",
       "    </tr>\n",
       "    <tr>\n",
       "      <th>10150331</th>\n",
       "      <td>44.73</td>\n",
       "      <td>2018-01-01 00:32:12</td>\n",
       "      <td>4763657</td>\n",
       "    </tr>\n",
       "    <tr>\n",
       "      <th>10150442</th>\n",
       "      <td>44.11</td>\n",
       "      <td>2018-01-01 00:37:11</td>\n",
       "      <td>4763657</td>\n",
       "    </tr>\n",
       "    <tr>\n",
       "      <th>10150559</th>\n",
       "      <td>43.49</td>\n",
       "      <td>2018-01-01 00:42:13</td>\n",
       "      <td>4763657</td>\n",
       "    </tr>\n",
       "    <tr>\n",
       "      <th>10150774</th>\n",
       "      <td>42.25</td>\n",
       "      <td>2018-01-01 00:47:13</td>\n",
       "      <td>4763657</td>\n",
       "    </tr>\n",
       "    <tr>\n",
       "      <th>10150784</th>\n",
       "      <td>41.01</td>\n",
       "      <td>2018-01-01 00:52:12</td>\n",
       "      <td>4763657</td>\n",
       "    </tr>\n",
       "    <tr>\n",
       "      <th>10150990</th>\n",
       "      <td>41.01</td>\n",
       "      <td>2018-01-01 00:57:10</td>\n",
       "      <td>4763657</td>\n",
       "    </tr>\n",
       "    <tr>\n",
       "      <th>10151126</th>\n",
       "      <td>41.01</td>\n",
       "      <td>2018-01-01 01:02:11</td>\n",
       "      <td>4763657</td>\n",
       "    </tr>\n",
       "    <tr>\n",
       "      <th>10151241</th>\n",
       "      <td>41.01</td>\n",
       "      <td>2018-01-01 01:07:10</td>\n",
       "      <td>4763657</td>\n",
       "    </tr>\n",
       "    <tr>\n",
       "      <th>10151456</th>\n",
       "      <td>40.38</td>\n",
       "      <td>2018-01-01 01:12:16</td>\n",
       "      <td>4763657</td>\n",
       "    </tr>\n",
       "    <tr>\n",
       "      <th>10151588</th>\n",
       "      <td>41.01</td>\n",
       "      <td>2018-01-01 01:17:14</td>\n",
       "      <td>4763657</td>\n",
       "    </tr>\n",
       "    <tr>\n",
       "      <th>10151648</th>\n",
       "      <td>41.01</td>\n",
       "      <td>2018-01-01 01:22:11</td>\n",
       "      <td>4763657</td>\n",
       "    </tr>\n",
       "    <tr>\n",
       "      <th>10151783</th>\n",
       "      <td>40.38</td>\n",
       "      <td>2018-01-01 01:27:12</td>\n",
       "      <td>4763657</td>\n",
       "    </tr>\n",
       "    <tr>\n",
       "      <th>10151924</th>\n",
       "      <td>41.01</td>\n",
       "      <td>2018-01-01 01:32:12</td>\n",
       "      <td>4763657</td>\n",
       "    </tr>\n",
       "    <tr>\n",
       "      <th>10152059</th>\n",
       "      <td>42.25</td>\n",
       "      <td>2018-01-01 01:37:11</td>\n",
       "      <td>4763657</td>\n",
       "    </tr>\n",
       "  </tbody>\n",
       "</table>\n",
       "</div>"
      ],
      "text/plain": [
       "          SPEED                DATE  LINK_ID\n",
       "10149500  44.73 2018-01-01 00:02:10  4763657\n",
       "10149637  44.73 2018-01-01 00:07:09  4763657\n",
       "10149836  44.11 2018-01-01 00:12:12  4763657\n",
       "10149902  44.73 2018-01-01 00:17:09  4763657\n",
       "10150047  44.73 2018-01-01 00:22:11  4763657\n",
       "10150193  45.36 2018-01-01 00:27:11  4763657\n",
       "10150331  44.73 2018-01-01 00:32:12  4763657\n",
       "10150442  44.11 2018-01-01 00:37:11  4763657\n",
       "10150559  43.49 2018-01-01 00:42:13  4763657\n",
       "10150774  42.25 2018-01-01 00:47:13  4763657\n",
       "10150784  41.01 2018-01-01 00:52:12  4763657\n",
       "10150990  41.01 2018-01-01 00:57:10  4763657\n",
       "10151126  41.01 2018-01-01 01:02:11  4763657\n",
       "10151241  41.01 2018-01-01 01:07:10  4763657\n",
       "10151456  40.38 2018-01-01 01:12:16  4763657\n",
       "10151588  41.01 2018-01-01 01:17:14  4763657\n",
       "10151648  41.01 2018-01-01 01:22:11  4763657\n",
       "10151783  40.38 2018-01-01 01:27:12  4763657\n",
       "10151924  41.01 2018-01-01 01:32:12  4763657\n",
       "10152059  42.25 2018-01-01 01:37:11  4763657"
      ]
     },
     "execution_count": 61,
     "metadata": {},
     "output_type": "execute_result"
    }
   ],
   "source": [
    "link_data_18.head(20)"
   ]
  },
  {
   "cell_type": "code",
   "execution_count": 62,
   "metadata": {},
   "outputs": [
    {
     "data": {
      "text/plain": [
       "43.18222808426166"
      ]
     },
     "execution_count": 62,
     "metadata": {},
     "output_type": "execute_result"
    }
   ],
   "source": [
    "link_data_18['SPEED'].mean()"
   ]
  },
  {
   "cell_type": "code",
   "execution_count": 63,
   "metadata": {},
   "outputs": [
    {
     "data": {
      "text/plain": [
       "count    99700.000000\n",
       "mean        43.182228\n",
       "std          9.862680\n",
       "min          0.000000\n",
       "25%         43.490000\n",
       "50%         45.360000\n",
       "75%         47.220000\n",
       "max         69.590000\n",
       "Name: SPEED, dtype: float64"
      ]
     },
     "execution_count": 63,
     "metadata": {},
     "output_type": "execute_result"
    }
   ],
   "source": [
    "link_data_18['SPEED'].describe()"
   ]
  },
  {
   "cell_type": "code",
   "execution_count": null,
   "metadata": {},
   "outputs": [],
   "source": []
  }
 ],
 "metadata": {
  "kernelspec": {
   "display_name": "Python 3",
   "language": "python",
   "name": "python3"
  },
  "language_info": {
   "codemirror_mode": {
    "name": "ipython",
    "version": 3
   },
   "file_extension": ".py",
   "mimetype": "text/x-python",
   "name": "python",
   "nbconvert_exporter": "python",
   "pygments_lexer": "ipython3",
   "version": "3.8.2"
  }
 },
 "nbformat": 4,
 "nbformat_minor": 4
}
